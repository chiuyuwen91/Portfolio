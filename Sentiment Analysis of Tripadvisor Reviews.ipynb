{
 "cells": [
  {
   "cell_type": "markdown",
   "id": "2db9eb72",
   "metadata": {},
   "source": [
    "# Introduction"
   ]
  },
  {
   "cell_type": "markdown",
   "id": "3dffa25e",
   "metadata": {},
   "source": [
    "The data is about the hotels reviews from Trip Advisor website. I downloaded it from Kaggle.   \n",
    "In this data set, it has two columns, one is the reviews, another one is the rating from 1 to 5 accompanying with that review. The data has 20491 objects in total.\n",
    "Reference to: https://www.kaggle.com/andrewmvd/trip-advisor-hotel-reviews  \n",
    "\n",
    "\n",
    "Basically, in this Kaggle competition, they want to predict the correct rating based on the reviews. So, I take it as a classification problem and I would utilze the models including tree models to tackle.  \n",
    "\n",
    "Here is what I thought, since we learned couple models in classes, we could just choose three popular models to see which one works best instead of stop at nothing to get the best accuracy. (In this competition, most people would use XGBoost and deep learning to build the model.) In other words, we may just slightly change the problem that we are going to deal with the data. \n",
    "To be more specific, we choose logistic regression, random forest classification and gradient boosting classification models to attack the problem and compare the results from this three models. The reason why I choose this three models, not just merely they are popular but they have their own advantages and could bring good outcome. I would explain more later below."
   ]
  },
  {
   "cell_type": "code",
   "execution_count": 378,
   "id": "b538457f",
   "metadata": {},
   "outputs": [],
   "source": [
    "import pandas as pd\n",
    "import numpy as np\n",
    "import matplotlib.pyplot as plt\n",
    "from wordcloud import WordCloud, STOPWORDS\n",
    "import re\n",
    "from sklearn.feature_extraction.text import CountVectorizer\n",
    "from sklearn.feature_extraction.text import TfidfVectorizer\n",
    "from nltk.stem import WordNetLemmatizer\n",
    "import nltk\n",
    "from sklearn.model_selection import train_test_split\n",
    "from sklearn.model_selection import cross_validate\n",
    "from sklearn.model_selection import cross_val_score\n",
    "from sklearn.model_selection import GridSearchCV\n",
    "from sklearn.linear_model import LogisticRegression\n",
    "from sklearn.ensemble import RandomForestClassifier\n",
    "from sklearn.metrics import accuracy_score, classification_report\n",
    "from sklearn.pipeline import Pipeline\n",
    "from gensim.models.word2vec import Word2Vec\n",
    "from sklearn.ensemble import RandomForestClassifier\n",
    "from sklearn.ensemble import GradientBoostingClassifier"
   ]
  },
  {
   "cell_type": "markdown",
   "id": "077b5a8d",
   "metadata": {},
   "source": [
    "# Preprocessing data"
   ]
  },
  {
   "cell_type": "markdown",
   "id": "7fad157d",
   "metadata": {},
   "source": [
    "The first step is to clean the data. Since it is text data gathered from populations' reviews, it might contain some typo, we use WordNetLemmatizer function to clean the data. Meanwhile check the missing value."
   ]
  },
  {
   "cell_type": "code",
   "execution_count": 192,
   "id": "305d7d22",
   "metadata": {},
   "outputs": [
    {
     "name": "stderr",
     "output_type": "stream",
     "text": [
      "[nltk_data] Downloading package wordnet to\n",
      "[nltk_data]     /Users/YuwenChiu/nltk_data/...\n",
      "[nltk_data]   Package wordnet is already up-to-date!\n"
     ]
    },
    {
     "data": {
      "text/plain": [
       "True"
      ]
     },
     "execution_count": 192,
     "metadata": {},
     "output_type": "execute_result"
    }
   ],
   "source": [
    "nltk.download('wordnet', '/Users/YuwenChiu/nltk_data/')  "
   ]
  },
  {
   "cell_type": "code",
   "execution_count": 193,
   "id": "5feb26e0",
   "metadata": {},
   "outputs": [],
   "source": [
    "stopwords = set(STOPWORDS)"
   ]
  },
  {
   "cell_type": "code",
   "execution_count": 194,
   "id": "d72ef117",
   "metadata": {},
   "outputs": [
    {
     "data": {
      "text/html": [
       "<div>\n",
       "<style scoped>\n",
       "    .dataframe tbody tr th:only-of-type {\n",
       "        vertical-align: middle;\n",
       "    }\n",
       "\n",
       "    .dataframe tbody tr th {\n",
       "        vertical-align: top;\n",
       "    }\n",
       "\n",
       "    .dataframe thead th {\n",
       "        text-align: right;\n",
       "    }\n",
       "</style>\n",
       "<table border=\"1\" class=\"dataframe\">\n",
       "  <thead>\n",
       "    <tr style=\"text-align: right;\">\n",
       "      <th></th>\n",
       "      <th>Review</th>\n",
       "      <th>Rating</th>\n",
       "    </tr>\n",
       "  </thead>\n",
       "  <tbody>\n",
       "    <tr>\n",
       "      <th>0</th>\n",
       "      <td>nice hotel expensive parking got good deal sta...</td>\n",
       "      <td>4</td>\n",
       "    </tr>\n",
       "    <tr>\n",
       "      <th>1</th>\n",
       "      <td>ok nothing special charge diamond member hilto...</td>\n",
       "      <td>2</td>\n",
       "    </tr>\n",
       "    <tr>\n",
       "      <th>2</th>\n",
       "      <td>nice rooms not 4* experience hotel monaco seat...</td>\n",
       "      <td>3</td>\n",
       "    </tr>\n",
       "    <tr>\n",
       "      <th>3</th>\n",
       "      <td>unique, great stay, wonderful time hotel monac...</td>\n",
       "      <td>5</td>\n",
       "    </tr>\n",
       "    <tr>\n",
       "      <th>4</th>\n",
       "      <td>great stay great stay, went seahawk game aweso...</td>\n",
       "      <td>5</td>\n",
       "    </tr>\n",
       "  </tbody>\n",
       "</table>\n",
       "</div>"
      ],
      "text/plain": [
       "                                              Review  Rating\n",
       "0  nice hotel expensive parking got good deal sta...       4\n",
       "1  ok nothing special charge diamond member hilto...       2\n",
       "2  nice rooms not 4* experience hotel monaco seat...       3\n",
       "3  unique, great stay, wonderful time hotel monac...       5\n",
       "4  great stay great stay, went seahawk game aweso...       5"
      ]
     },
     "execution_count": 194,
     "metadata": {},
     "output_type": "execute_result"
    }
   ],
   "source": [
    "data = pd.read_csv('tripadvisor_hotel_reviews.csv')\n",
    "data.head()"
   ]
  },
  {
   "cell_type": "code",
   "execution_count": 195,
   "id": "60a4a2c9",
   "metadata": {},
   "outputs": [
    {
     "data": {
      "text/plain": [
       "Review    0\n",
       "Rating    0\n",
       "dtype: int64"
      ]
     },
     "execution_count": 195,
     "metadata": {},
     "output_type": "execute_result"
    }
   ],
   "source": [
    "data.isnull().sum()"
   ]
  },
  {
   "cell_type": "code",
   "execution_count": 196,
   "id": "7a21c0c8",
   "metadata": {},
   "outputs": [
    {
     "data": {
      "text/plain": [
       "'nice hotel expensive parking got good deal stay hotel anniversary, arrived late evening took advice previous reviews did valet parking, check quick easy, little disappointed non-existent view room room clean nice size, bed comfortable woke stiff neck high pillows, not soundproof like heard music room night morning loud bangs doors opening closing hear people talking hallway, maybe just noisy neighbors, aveda bath products nice, did not goldfish stay nice touch taken advantage staying longer, location great walking distance shopping, overall nice experience having pay 40 parking night,  '"
      ]
     },
     "execution_count": 196,
     "metadata": {},
     "output_type": "execute_result"
    }
   ],
   "source": [
    "data['Review'][0]"
   ]
  },
  {
   "cell_type": "code",
   "execution_count": 197,
   "id": "f71e2703",
   "metadata": {},
   "outputs": [],
   "source": [
    "worda=[]\n",
    "for i in range(len(data)):\n",
    "    wordlist = re.sub(\"[^\\w]\", \" \", data['Review'][i]).split() \n",
    "    worda.extend(wordlist)"
   ]
  },
  {
   "cell_type": "code",
   "execution_count": 198,
   "id": "4c1be32e",
   "metadata": {},
   "outputs": [
    {
     "name": "stdout",
     "output_type": "stream",
     "text": [
      "['nice', 'hotel', 'expensive', 'parking', 'got', 'good', 'deal', 'stay', 'hotel', 'anniversary', 'arrived', 'late', 'evening', 'took', 'advice', 'previous', 'reviews', 'did', 'valet', 'parking', 'check', 'quick', 'easy', 'little', 'disappointed', 'non', 'existent', 'view', 'room', 'room', 'clean', 'nice', 'size', 'bed', 'comfortable', 'woke', 'stiff', 'neck', 'high', 'pillows', 'not', 'soundproof', 'like', 'heard', 'music', 'room', 'night', 'morning', 'loud', 'bangs']\n"
     ]
    }
   ],
   "source": [
    "print(worda[:50])"
   ]
  },
  {
   "cell_type": "code",
   "execution_count": 379,
   "id": "1aee9d62",
   "metadata": {},
   "outputs": [
    {
     "data": {
      "image/png": "[encoded data removed]",
      "text/plain": [
       "<Figure size 1800x720 with 1 Axes>"
      ]
     },
     "metadata": {
      "needs_background": "light"
     },
     "output_type": "display_data"
    }
   ],
   "source": [
    "wordcloud = WordCloud(random_state=5).generate(str(data['Review']))\n",
    "\n",
    "plt.figure(figsize=(25,10))\n",
    "plt.imshow(wordcloud, interpolation='bilinear')\n",
    "plt.axis('off')\n",
    "plt.show()"
   ]
  },
  {
   "cell_type": "markdown",
   "id": "0f10033f",
   "metadata": {},
   "source": [
    "This may just for fun, we can see the words that in the data set roughly from the word cloud."
   ]
  },
  {
   "cell_type": "markdown",
   "id": "8391bcb3",
   "metadata": {},
   "source": [
    "Just as mentioned early, we use WordNetLemmatizer function to preprocessing data because sometime people would type wrong wrods accidentally."
   ]
  },
  {
   "cell_type": "code",
   "execution_count": 200,
   "id": "09537430",
   "metadata": {},
   "outputs": [],
   "source": [
    "lemmatizer = WordNetLemmatizer()"
   ]
  },
  {
   "cell_type": "code",
   "execution_count": 201,
   "id": "d13ebb60",
   "metadata": {},
   "outputs": [],
   "source": [
    "def pre_processing(row):\n",
    "    _row=row.lower()\n",
    "    _row = \" \".join([lemmatizer.lemmatize(word) for word in _row.split()])\n",
    "    return _row"
   ]
  },
  {
   "cell_type": "code",
   "execution_count": 202,
   "id": "d526cbdf",
   "metadata": {},
   "outputs": [],
   "source": [
    "data['Review'] = data['Review'].apply(pre_processing)"
   ]
  },
  {
   "cell_type": "markdown",
   "id": "2bbdfb6e",
   "metadata": {},
   "source": [
    "# Feature engineering"
   ]
  },
  {
   "cell_type": "markdown",
   "id": "b1f246cf",
   "metadata": {},
   "source": [
    "The next step is to extract features from data, so here we use CountVectorizer function to see the features in the data."
   ]
  },
  {
   "cell_type": "code",
   "execution_count": 203,
   "id": "72ad7873",
   "metadata": {},
   "outputs": [],
   "source": [
    "X = data['Review']\n",
    "y = data['Rating']"
   ]
  },
  {
   "cell_type": "code",
   "execution_count": 204,
   "id": "8f3c6ee4",
   "metadata": {},
   "outputs": [],
   "source": [
    "X_train, X_test, y_train, y_test = train_test_split(X, y, test_size=0.5, random_state=5)"
   ]
  },
  {
   "cell_type": "code",
   "execution_count": 205,
   "id": "a76206a1",
   "metadata": {},
   "outputs": [
    {
     "name": "stdout",
     "output_type": "stream",
     "text": [
      "10245 10245\n"
     ]
    }
   ],
   "source": [
    "print(len(X_train), len(y_train))"
   ]
  },
  {
   "cell_type": "code",
   "execution_count": 206,
   "id": "6cabf7c8",
   "metadata": {},
   "outputs": [
    {
     "data": {
      "text/plain": [
       "'standard room bathroom like 2 star hotel don`t book standard room, room ok bathroom tired need refurbishment, shower bath shower head hooked, swivelled turned making difficult stand, no thermostat just hot cold mixer tap, nasty fall shower suddenly hot.i not recommend hotel,'"
      ]
     },
     "execution_count": 206,
     "metadata": {},
     "output_type": "execute_result"
    }
   ],
   "source": [
    "X_train[5306]"
   ]
  },
  {
   "cell_type": "markdown",
   "id": "be52ee24",
   "metadata": {},
   "source": [
    "Here, we use the regular expression method to take out the punctuation marks."
   ]
  },
  {
   "cell_type": "code",
   "execution_count": 211,
   "id": "36a36a92",
   "metadata": {},
   "outputs": [
    {
     "data": {
      "text/plain": [
       "'standard room bathroom like 2 star hotel don t book standard room  room ok bathroom tired need refurbishment  shower bath shower head hooked  swivelled turned making difficult stand  no thermostat just hot cold mixer tap  nasty fall shower suddenly hot i not recommend hotel '"
      ]
     },
     "execution_count": 211,
     "metadata": {},
     "output_type": "execute_result"
    }
   ],
   "source": [
    "re.sub('[^\\w]', ' ', X_train[5306])"
   ]
  },
  {
   "cell_type": "code",
   "execution_count": 212,
   "id": "04795f10",
   "metadata": {},
   "outputs": [
    {
     "data": {
      "text/plain": [
       "5306     1\n",
       "13595    5\n",
       "4630     5\n",
       "4141     3\n",
       "18937    3\n",
       "6928     5\n",
       "1545     5\n",
       "10357    3\n",
       "12902    3\n",
       "2339     5\n",
       "Name: Rating, dtype: int64"
      ]
     },
     "execution_count": 212,
     "metadata": {},
     "output_type": "execute_result"
    }
   ],
   "source": [
    "y_train[:10]"
   ]
  },
  {
   "cell_type": "markdown",
   "id": "19832caf",
   "metadata": {},
   "source": [
    "Then, we can count frequency of each presented words, the prepartion for sentiment analysis."
   ]
  },
  {
   "cell_type": "code",
   "execution_count": 218,
   "id": "62468106",
   "metadata": {},
   "outputs": [],
   "source": [
    "vectp = CountVectorizer().fit(X_train)"
   ]
  },
  {
   "cell_type": "markdown",
   "id": "979188e6",
   "metadata": {},
   "source": [
    "Transform data so that words become features (columns) and each review is a vector (row). This tells us how many times the features shows in that row."
   ]
  },
  {
   "cell_type": "code",
   "execution_count": 219,
   "id": "04c0e36c",
   "metadata": {},
   "outputs": [],
   "source": [
    "X_trainp = vectp.transform(X_train)"
   ]
  },
  {
   "cell_type": "code",
   "execution_count": 220,
   "id": "524028e8",
   "metadata": {},
   "outputs": [
    {
     "data": {
      "text/plain": [
       "\"<10245x35538 sparse matrix of type '<class 'numpy.int64'>'\\n\\twith 835731 stored elements in Compressed Sparse Row format>\""
      ]
     },
     "execution_count": 220,
     "metadata": {},
     "output_type": "execute_result"
    }
   ],
   "source": [
    "repr(X_trainp)"
   ]
  },
  {
   "cell_type": "markdown",
   "id": "4e123db3",
   "metadata": {},
   "source": [
    "There were 14343 sentences and 35538 words so this is a 14343 by 35538 matrix."
   ]
  },
  {
   "cell_type": "code",
   "execution_count": 221,
   "id": "128efa5e",
   "metadata": {},
   "outputs": [
    {
     "name": "stdout",
     "output_type": "stream",
     "text": [
      "['00', '000', '0001', '000__çî_', '000hope', '000rp', '000sf', '000year', '00a', '00am', '00for', '00hrs', '00p', '00pm', '00us', '01', '0114', '01st', '02', '0200']\n"
     ]
    }
   ],
   "source": [
    "feats = vectp.get_feature_names()\n",
    "print(feats[:20])"
   ]
  },
  {
   "cell_type": "code",
   "execution_count": 222,
   "id": "c243e525",
   "metadata": {},
   "outputs": [
    {
     "data": {
      "text/plain": [
       "35538"
      ]
     },
     "execution_count": 222,
     "metadata": {},
     "output_type": "execute_result"
    }
   ],
   "source": [
    "len(feats)"
   ]
  },
  {
   "cell_type": "markdown",
   "id": "36be2728",
   "metadata": {},
   "source": [
    "# Modeling"
   ]
  },
  {
   "cell_type": "markdown",
   "id": "e574099f",
   "metadata": {},
   "source": [
    "### Logistic Regression"
   ]
  },
  {
   "cell_type": "markdown",
   "id": "e4ef8639",
   "metadata": {},
   "source": [
    "Since the data already has the target(label), it is supervised-learning.  \n",
    "When we mention a classification with supervised-learning problem, logistic regression would be the first model come up with our brain. So we are going to take the outcome of this model as a benchmark. Yet, we know that logistic regression is usually to devide for two classes, since it has 5 classes in this data set, it might has worst prediction.  \n",
    "\n",
    "Let us take a look if we train a Logistic Regression model on the trainin data."
   ]
  },
  {
   "cell_type": "code",
   "execution_count": 223,
   "id": "21f45731",
   "metadata": {},
   "outputs": [
    {
     "name": "stderr",
     "output_type": "stream",
     "text": [
      "/Users/YuwenChiu/anaconda3/lib/python3.7/site-packages/sklearn/linear_model/_logistic.py:765: ConvergenceWarning: lbfgs failed to converge (status=1):\n",
      "STOP: TOTAL NO. of ITERATIONS REACHED LIMIT.\n",
      "\n",
      "Increase the number of iterations (max_iter) or scale the data as shown in:\n",
      "    https://scikit-learn.org/stable/modules/preprocessing.html\n",
      "Please also refer to the documentation for alternative solver options:\n",
      "    https://scikit-learn.org/stable/modules/linear_model.html#logistic-regression\n",
      "  extra_warning_msg=_LOGISTIC_SOLVER_CONVERGENCE_MSG)\n",
      "/Users/YuwenChiu/anaconda3/lib/python3.7/site-packages/sklearn/linear_model/_logistic.py:765: ConvergenceWarning: lbfgs failed to converge (status=1):\n",
      "STOP: TOTAL NO. of ITERATIONS REACHED LIMIT.\n",
      "\n",
      "Increase the number of iterations (max_iter) or scale the data as shown in:\n",
      "    https://scikit-learn.org/stable/modules/preprocessing.html\n",
      "Please also refer to the documentation for alternative solver options:\n",
      "    https://scikit-learn.org/stable/modules/linear_model.html#logistic-regression\n",
      "  extra_warning_msg=_LOGISTIC_SOLVER_CONVERGENCE_MSG)\n",
      "/Users/YuwenChiu/anaconda3/lib/python3.7/site-packages/sklearn/linear_model/_logistic.py:765: ConvergenceWarning: lbfgs failed to converge (status=1):\n",
      "STOP: TOTAL NO. of ITERATIONS REACHED LIMIT.\n",
      "\n",
      "Increase the number of iterations (max_iter) or scale the data as shown in:\n",
      "    https://scikit-learn.org/stable/modules/preprocessing.html\n",
      "Please also refer to the documentation for alternative solver options:\n",
      "    https://scikit-learn.org/stable/modules/linear_model.html#logistic-regression\n",
      "  extra_warning_msg=_LOGISTIC_SOLVER_CONVERGENCE_MSG)\n",
      "/Users/YuwenChiu/anaconda3/lib/python3.7/site-packages/sklearn/linear_model/_logistic.py:765: ConvergenceWarning: lbfgs failed to converge (status=1):\n",
      "STOP: TOTAL NO. of ITERATIONS REACHED LIMIT.\n",
      "\n",
      "Increase the number of iterations (max_iter) or scale the data as shown in:\n",
      "    https://scikit-learn.org/stable/modules/preprocessing.html\n",
      "Please also refer to the documentation for alternative solver options:\n",
      "    https://scikit-learn.org/stable/modules/linear_model.html#logistic-regression\n",
      "  extra_warning_msg=_LOGISTIC_SOLVER_CONVERGENCE_MSG)\n",
      "/Users/YuwenChiu/anaconda3/lib/python3.7/site-packages/sklearn/linear_model/_logistic.py:765: ConvergenceWarning: lbfgs failed to converge (status=1):\n",
      "STOP: TOTAL NO. of ITERATIONS REACHED LIMIT.\n",
      "\n",
      "Increase the number of iterations (max_iter) or scale the data as shown in:\n",
      "    https://scikit-learn.org/stable/modules/preprocessing.html\n",
      "Please also refer to the documentation for alternative solver options:\n",
      "    https://scikit-learn.org/stable/modules/linear_model.html#logistic-regression\n",
      "  extra_warning_msg=_LOGISTIC_SOLVER_CONVERGENCE_MSG)\n"
     ]
    }
   ],
   "source": [
    "scores = cross_val_score(LogisticRegression(), X_trainp, y_train, cv=5)"
   ]
  },
  {
   "cell_type": "code",
   "execution_count": 225,
   "id": "85807905",
   "metadata": {},
   "outputs": [
    {
     "data": {
      "text/plain": [
       "array([0.58662762, 0.5636896 , 0.59492435, 0.56417765, 0.57101025])"
      ]
     },
     "execution_count": 225,
     "metadata": {},
     "output_type": "execute_result"
    }
   ],
   "source": [
    "scores"
   ]
  },
  {
   "cell_type": "code",
   "execution_count": 226,
   "id": "cf4e27ac",
   "metadata": {},
   "outputs": [
    {
     "data": {
      "text/plain": [
       "0.5760858955588091"
      ]
     },
     "execution_count": 226,
     "metadata": {},
     "output_type": "execute_result"
    }
   ],
   "source": [
    "np.mean(scores)"
   ]
  },
  {
   "cell_type": "markdown",
   "id": "4a2a54a3",
   "metadata": {},
   "source": [
    "Here is the outcome we only train X data set, the accuracy is about 0.58.  \n",
    "It seems not bad. However, let us try more if we train with whole data set, incluing y training set, what the outcome would be.\n"
   ]
  },
  {
   "cell_type": "code",
   "execution_count": 227,
   "id": "c09c2263",
   "metadata": {},
   "outputs": [],
   "source": [
    "vectq = CountVectorizer().fit(X_test)\n",
    "X_testq = vectq.transform(X_test)\n",
    "X_testq = X_testq[0: ,443:]"
   ]
  },
  {
   "cell_type": "code",
   "execution_count": 228,
   "id": "5a81a53f",
   "metadata": {},
   "outputs": [
    {
     "name": "stdout",
     "output_type": "stream",
     "text": [
      "(10246, 35538) (10246,)\n"
     ]
    }
   ],
   "source": [
    "print(X_testq.shape, y_test.shape)"
   ]
  },
  {
   "cell_type": "markdown",
   "id": "69cfa635",
   "metadata": {},
   "source": [
    "Now, retrain for whole training set, which means including y training set."
   ]
  },
  {
   "cell_type": "code",
   "execution_count": 229,
   "id": "2926d357",
   "metadata": {},
   "outputs": [
    {
     "name": "stderr",
     "output_type": "stream",
     "text": [
      "/Users/YuwenChiu/anaconda3/lib/python3.7/site-packages/sklearn/linear_model/_logistic.py:765: ConvergenceWarning: lbfgs failed to converge (status=1):\n",
      "STOP: TOTAL NO. of ITERATIONS REACHED LIMIT.\n",
      "\n",
      "Increase the number of iterations (max_iter) or scale the data as shown in:\n",
      "    https://scikit-learn.org/stable/modules/preprocessing.html\n",
      "Please also refer to the documentation for alternative solver options:\n",
      "    https://scikit-learn.org/stable/modules/linear_model.html#logistic-regression\n",
      "  extra_warning_msg=_LOGISTIC_SOLVER_CONVERGENCE_MSG)\n"
     ]
    }
   ],
   "source": [
    "lrm = LogisticRegression().fit(X_trainp, y_train)"
   ]
  },
  {
   "cell_type": "code",
   "execution_count": 230,
   "id": "d1e57c39",
   "metadata": {},
   "outputs": [
    {
     "data": {
      "text/plain": [
       "0.27766933437439"
      ]
     },
     "execution_count": 230,
     "metadata": {},
     "output_type": "execute_result"
    }
   ],
   "source": [
    "accuracy_score(y_test, lrm.predict(X_testq))"
   ]
  },
  {
   "cell_type": "code",
   "execution_count": 231,
   "id": "c93e3be7",
   "metadata": {},
   "outputs": [
    {
     "data": {
      "text/html": [
       "<div>\n",
       "<style scoped>\n",
       "    .dataframe tbody tr th:only-of-type {\n",
       "        vertical-align: middle;\n",
       "    }\n",
       "\n",
       "    .dataframe tbody tr th {\n",
       "        vertical-align: top;\n",
       "    }\n",
       "\n",
       "    .dataframe thead th {\n",
       "        text-align: right;\n",
       "    }\n",
       "</style>\n",
       "<table border=\"1\" class=\"dataframe\">\n",
       "  <thead>\n",
       "    <tr style=\"text-align: right;\">\n",
       "      <th>col_0</th>\n",
       "      <th>1</th>\n",
       "      <th>2</th>\n",
       "      <th>3</th>\n",
       "      <th>4</th>\n",
       "      <th>5</th>\n",
       "    </tr>\n",
       "    <tr>\n",
       "      <th>Rating</th>\n",
       "      <th></th>\n",
       "      <th></th>\n",
       "      <th></th>\n",
       "      <th></th>\n",
       "      <th></th>\n",
       "    </tr>\n",
       "  </thead>\n",
       "  <tbody>\n",
       "    <tr>\n",
       "      <th>1</th>\n",
       "      <td>24</td>\n",
       "      <td>119</td>\n",
       "      <td>37</td>\n",
       "      <td>217</td>\n",
       "      <td>313</td>\n",
       "    </tr>\n",
       "    <tr>\n",
       "      <th>2</th>\n",
       "      <td>29</td>\n",
       "      <td>134</td>\n",
       "      <td>72</td>\n",
       "      <td>249</td>\n",
       "      <td>399</td>\n",
       "    </tr>\n",
       "    <tr>\n",
       "      <th>3</th>\n",
       "      <td>25</td>\n",
       "      <td>237</td>\n",
       "      <td>94</td>\n",
       "      <td>292</td>\n",
       "      <td>444</td>\n",
       "    </tr>\n",
       "    <tr>\n",
       "      <th>4</th>\n",
       "      <td>81</td>\n",
       "      <td>729</td>\n",
       "      <td>288</td>\n",
       "      <td>745</td>\n",
       "      <td>1226</td>\n",
       "    </tr>\n",
       "    <tr>\n",
       "      <th>5</th>\n",
       "      <td>118</td>\n",
       "      <td>1129</td>\n",
       "      <td>373</td>\n",
       "      <td>1024</td>\n",
       "      <td>1848</td>\n",
       "    </tr>\n",
       "  </tbody>\n",
       "</table>\n",
       "</div>"
      ],
      "text/plain": [
       "col_0     1     2    3     4     5\n",
       "Rating                            \n",
       "1        24   119   37   217   313\n",
       "2        29   134   72   249   399\n",
       "3        25   237   94   292   444\n",
       "4        81   729  288   745  1226\n",
       "5       118  1129  373  1024  1848"
      ]
     },
     "execution_count": 231,
     "metadata": {},
     "output_type": "execute_result"
    }
   ],
   "source": [
    "pd.crosstab(y_test, lrm.predict(X_testq))"
   ]
  },
  {
   "cell_type": "markdown",
   "id": "c49969e3",
   "metadata": {},
   "source": [
    "We can find that LR works better when we only get by training on training set. "
   ]
  },
  {
   "cell_type": "markdown",
   "id": "c9fdd37f",
   "metadata": {},
   "source": [
    "#### LR with Grid search"
   ]
  },
  {
   "cell_type": "markdown",
   "id": "cfe6a3ae",
   "metadata": {},
   "source": [
    "Then, let us try grid search method to fine the optimal result."
   ]
  },
  {
   "cell_type": "code",
   "execution_count": 232,
   "id": "41a04538",
   "metadata": {},
   "outputs": [],
   "source": [
    "param_grid={'C':[0.001,0.01,0.10,1,10]}\n",
    "grid = GridSearchCV(LogisticRegression(), param_grid, cv=5)"
   ]
  },
  {
   "cell_type": "code",
   "execution_count": 233,
   "id": "f2c7a45a",
   "metadata": {},
   "outputs": [
    {
     "name": "stderr",
     "output_type": "stream",
     "text": [
      "/Users/YuwenChiu/anaconda3/lib/python3.7/site-packages/sklearn/linear_model/_logistic.py:765: ConvergenceWarning: lbfgs failed to converge (status=1):\n",
      "STOP: TOTAL NO. of ITERATIONS REACHED LIMIT.\n",
      "\n",
      "Increase the number of iterations (max_iter) or scale the data as shown in:\n",
      "    https://scikit-learn.org/stable/modules/preprocessing.html\n",
      "Please also refer to the documentation for alternative solver options:\n",
      "    https://scikit-learn.org/stable/modules/linear_model.html#logistic-regression\n",
      "  extra_warning_msg=_LOGISTIC_SOLVER_CONVERGENCE_MSG)\n",
      "/Users/YuwenChiu/anaconda3/lib/python3.7/site-packages/sklearn/linear_model/_logistic.py:765: ConvergenceWarning: lbfgs failed to converge (status=1):\n",
      "STOP: TOTAL NO. of ITERATIONS REACHED LIMIT.\n",
      "\n",
      "Increase the number of iterations (max_iter) or scale the data as shown in:\n",
      "    https://scikit-learn.org/stable/modules/preprocessing.html\n",
      "Please also refer to the documentation for alternative solver options:\n",
      "    https://scikit-learn.org/stable/modules/linear_model.html#logistic-regression\n",
      "  extra_warning_msg=_LOGISTIC_SOLVER_CONVERGENCE_MSG)\n",
      "/Users/YuwenChiu/anaconda3/lib/python3.7/site-packages/sklearn/linear_model/_logistic.py:765: ConvergenceWarning: lbfgs failed to converge (status=1):\n",
      "STOP: TOTAL NO. of ITERATIONS REACHED LIMIT.\n",
      "\n",
      "Increase the number of iterations (max_iter) or scale the data as shown in:\n",
      "    https://scikit-learn.org/stable/modules/preprocessing.html\n",
      "Please also refer to the documentation for alternative solver options:\n",
      "    https://scikit-learn.org/stable/modules/linear_model.html#logistic-regression\n",
      "  extra_warning_msg=_LOGISTIC_SOLVER_CONVERGENCE_MSG)\n",
      "/Users/YuwenChiu/anaconda3/lib/python3.7/site-packages/sklearn/linear_model/_logistic.py:765: ConvergenceWarning: lbfgs failed to converge (status=1):\n",
      "STOP: TOTAL NO. of ITERATIONS REACHED LIMIT.\n",
      "\n",
      "Increase the number of iterations (max_iter) or scale the data as shown in:\n",
      "    https://scikit-learn.org/stable/modules/preprocessing.html\n",
      "Please also refer to the documentation for alternative solver options:\n",
      "    https://scikit-learn.org/stable/modules/linear_model.html#logistic-regression\n",
      "  extra_warning_msg=_LOGISTIC_SOLVER_CONVERGENCE_MSG)\n",
      "/Users/YuwenChiu/anaconda3/lib/python3.7/site-packages/sklearn/linear_model/_logistic.py:765: ConvergenceWarning: lbfgs failed to converge (status=1):\n",
      "STOP: TOTAL NO. of ITERATIONS REACHED LIMIT.\n",
      "\n",
      "Increase the number of iterations (max_iter) or scale the data as shown in:\n",
      "    https://scikit-learn.org/stable/modules/preprocessing.html\n",
      "Please also refer to the documentation for alternative solver options:\n",
      "    https://scikit-learn.org/stable/modules/linear_model.html#logistic-regression\n",
      "  extra_warning_msg=_LOGISTIC_SOLVER_CONVERGENCE_MSG)\n",
      "/Users/YuwenChiu/anaconda3/lib/python3.7/site-packages/sklearn/linear_model/_logistic.py:765: ConvergenceWarning: lbfgs failed to converge (status=1):\n",
      "STOP: TOTAL NO. of ITERATIONS REACHED LIMIT.\n",
      "\n",
      "Increase the number of iterations (max_iter) or scale the data as shown in:\n",
      "    https://scikit-learn.org/stable/modules/preprocessing.html\n",
      "Please also refer to the documentation for alternative solver options:\n",
      "    https://scikit-learn.org/stable/modules/linear_model.html#logistic-regression\n",
      "  extra_warning_msg=_LOGISTIC_SOLVER_CONVERGENCE_MSG)\n",
      "/Users/YuwenChiu/anaconda3/lib/python3.7/site-packages/sklearn/linear_model/_logistic.py:765: ConvergenceWarning: lbfgs failed to converge (status=1):\n",
      "STOP: TOTAL NO. of ITERATIONS REACHED LIMIT.\n",
      "\n",
      "Increase the number of iterations (max_iter) or scale the data as shown in:\n",
      "    https://scikit-learn.org/stable/modules/preprocessing.html\n",
      "Please also refer to the documentation for alternative solver options:\n",
      "    https://scikit-learn.org/stable/modules/linear_model.html#logistic-regression\n",
      "  extra_warning_msg=_LOGISTIC_SOLVER_CONVERGENCE_MSG)\n",
      "/Users/YuwenChiu/anaconda3/lib/python3.7/site-packages/sklearn/linear_model/_logistic.py:765: ConvergenceWarning: lbfgs failed to converge (status=1):\n",
      "STOP: TOTAL NO. of ITERATIONS REACHED LIMIT.\n",
      "\n",
      "Increase the number of iterations (max_iter) or scale the data as shown in:\n",
      "    https://scikit-learn.org/stable/modules/preprocessing.html\n",
      "Please also refer to the documentation for alternative solver options:\n",
      "    https://scikit-learn.org/stable/modules/linear_model.html#logistic-regression\n",
      "  extra_warning_msg=_LOGISTIC_SOLVER_CONVERGENCE_MSG)\n",
      "/Users/YuwenChiu/anaconda3/lib/python3.7/site-packages/sklearn/linear_model/_logistic.py:765: ConvergenceWarning: lbfgs failed to converge (status=1):\n",
      "STOP: TOTAL NO. of ITERATIONS REACHED LIMIT.\n",
      "\n",
      "Increase the number of iterations (max_iter) or scale the data as shown in:\n",
      "    https://scikit-learn.org/stable/modules/preprocessing.html\n",
      "Please also refer to the documentation for alternative solver options:\n",
      "    https://scikit-learn.org/stable/modules/linear_model.html#logistic-regression\n",
      "  extra_warning_msg=_LOGISTIC_SOLVER_CONVERGENCE_MSG)\n",
      "/Users/YuwenChiu/anaconda3/lib/python3.7/site-packages/sklearn/linear_model/_logistic.py:765: ConvergenceWarning: lbfgs failed to converge (status=1):\n",
      "STOP: TOTAL NO. of ITERATIONS REACHED LIMIT.\n",
      "\n",
      "Increase the number of iterations (max_iter) or scale the data as shown in:\n",
      "    https://scikit-learn.org/stable/modules/preprocessing.html\n",
      "Please also refer to the documentation for alternative solver options:\n",
      "    https://scikit-learn.org/stable/modules/linear_model.html#logistic-regression\n",
      "  extra_warning_msg=_LOGISTIC_SOLVER_CONVERGENCE_MSG)\n",
      "/Users/YuwenChiu/anaconda3/lib/python3.7/site-packages/sklearn/linear_model/_logistic.py:765: ConvergenceWarning: lbfgs failed to converge (status=1):\n",
      "STOP: TOTAL NO. of ITERATIONS REACHED LIMIT.\n",
      "\n",
      "Increase the number of iterations (max_iter) or scale the data as shown in:\n",
      "    https://scikit-learn.org/stable/modules/preprocessing.html\n",
      "Please also refer to the documentation for alternative solver options:\n",
      "    https://scikit-learn.org/stable/modules/linear_model.html#logistic-regression\n",
      "  extra_warning_msg=_LOGISTIC_SOLVER_CONVERGENCE_MSG)\n",
      "/Users/YuwenChiu/anaconda3/lib/python3.7/site-packages/sklearn/linear_model/_logistic.py:765: ConvergenceWarning: lbfgs failed to converge (status=1):\n",
      "STOP: TOTAL NO. of ITERATIONS REACHED LIMIT.\n",
      "\n",
      "Increase the number of iterations (max_iter) or scale the data as shown in:\n",
      "    https://scikit-learn.org/stable/modules/preprocessing.html\n",
      "Please also refer to the documentation for alternative solver options:\n",
      "    https://scikit-learn.org/stable/modules/linear_model.html#logistic-regression\n",
      "  extra_warning_msg=_LOGISTIC_SOLVER_CONVERGENCE_MSG)\n",
      "/Users/YuwenChiu/anaconda3/lib/python3.7/site-packages/sklearn/linear_model/_logistic.py:765: ConvergenceWarning: lbfgs failed to converge (status=1):\n",
      "STOP: TOTAL NO. of ITERATIONS REACHED LIMIT.\n",
      "\n",
      "Increase the number of iterations (max_iter) or scale the data as shown in:\n",
      "    https://scikit-learn.org/stable/modules/preprocessing.html\n",
      "Please also refer to the documentation for alternative solver options:\n",
      "    https://scikit-learn.org/stable/modules/linear_model.html#logistic-regression\n",
      "  extra_warning_msg=_LOGISTIC_SOLVER_CONVERGENCE_MSG)\n",
      "/Users/YuwenChiu/anaconda3/lib/python3.7/site-packages/sklearn/linear_model/_logistic.py:765: ConvergenceWarning: lbfgs failed to converge (status=1):\n",
      "STOP: TOTAL NO. of ITERATIONS REACHED LIMIT.\n",
      "\n",
      "Increase the number of iterations (max_iter) or scale the data as shown in:\n",
      "    https://scikit-learn.org/stable/modules/preprocessing.html\n",
      "Please also refer to the documentation for alternative solver options:\n",
      "    https://scikit-learn.org/stable/modules/linear_model.html#logistic-regression\n",
      "  extra_warning_msg=_LOGISTIC_SOLVER_CONVERGENCE_MSG)\n",
      "/Users/YuwenChiu/anaconda3/lib/python3.7/site-packages/sklearn/linear_model/_logistic.py:765: ConvergenceWarning: lbfgs failed to converge (status=1):\n",
      "STOP: TOTAL NO. of ITERATIONS REACHED LIMIT.\n",
      "\n",
      "Increase the number of iterations (max_iter) or scale the data as shown in:\n",
      "    https://scikit-learn.org/stable/modules/preprocessing.html\n",
      "Please also refer to the documentation for alternative solver options:\n",
      "    https://scikit-learn.org/stable/modules/linear_model.html#logistic-regression\n",
      "  extra_warning_msg=_LOGISTIC_SOLVER_CONVERGENCE_MSG)\n",
      "/Users/YuwenChiu/anaconda3/lib/python3.7/site-packages/sklearn/linear_model/_logistic.py:765: ConvergenceWarning: lbfgs failed to converge (status=1):\n",
      "STOP: TOTAL NO. of ITERATIONS REACHED LIMIT.\n",
      "\n",
      "Increase the number of iterations (max_iter) or scale the data as shown in:\n",
      "    https://scikit-learn.org/stable/modules/preprocessing.html\n",
      "Please also refer to the documentation for alternative solver options:\n",
      "    https://scikit-learn.org/stable/modules/linear_model.html#logistic-regression\n",
      "  extra_warning_msg=_LOGISTIC_SOLVER_CONVERGENCE_MSG)\n"
     ]
    },
    {
     "name": "stderr",
     "output_type": "stream",
     "text": [
      "/Users/YuwenChiu/anaconda3/lib/python3.7/site-packages/sklearn/linear_model/_logistic.py:765: ConvergenceWarning: lbfgs failed to converge (status=1):\n",
      "STOP: TOTAL NO. of ITERATIONS REACHED LIMIT.\n",
      "\n",
      "Increase the number of iterations (max_iter) or scale the data as shown in:\n",
      "    https://scikit-learn.org/stable/modules/preprocessing.html\n",
      "Please also refer to the documentation for alternative solver options:\n",
      "    https://scikit-learn.org/stable/modules/linear_model.html#logistic-regression\n",
      "  extra_warning_msg=_LOGISTIC_SOLVER_CONVERGENCE_MSG)\n",
      "/Users/YuwenChiu/anaconda3/lib/python3.7/site-packages/sklearn/linear_model/_logistic.py:765: ConvergenceWarning: lbfgs failed to converge (status=1):\n",
      "STOP: TOTAL NO. of ITERATIONS REACHED LIMIT.\n",
      "\n",
      "Increase the number of iterations (max_iter) or scale the data as shown in:\n",
      "    https://scikit-learn.org/stable/modules/preprocessing.html\n",
      "Please also refer to the documentation for alternative solver options:\n",
      "    https://scikit-learn.org/stable/modules/linear_model.html#logistic-regression\n",
      "  extra_warning_msg=_LOGISTIC_SOLVER_CONVERGENCE_MSG)\n",
      "/Users/YuwenChiu/anaconda3/lib/python3.7/site-packages/sklearn/linear_model/_logistic.py:765: ConvergenceWarning: lbfgs failed to converge (status=1):\n",
      "STOP: TOTAL NO. of ITERATIONS REACHED LIMIT.\n",
      "\n",
      "Increase the number of iterations (max_iter) or scale the data as shown in:\n",
      "    https://scikit-learn.org/stable/modules/preprocessing.html\n",
      "Please also refer to the documentation for alternative solver options:\n",
      "    https://scikit-learn.org/stable/modules/linear_model.html#logistic-regression\n",
      "  extra_warning_msg=_LOGISTIC_SOLVER_CONVERGENCE_MSG)\n"
     ]
    },
    {
     "data": {
      "text/plain": [
       "GridSearchCV(cv=5, estimator=LogisticRegression(),\n",
       "             param_grid={'C': [0.001, 0.01, 0.1, 1, 10]})"
      ]
     },
     "execution_count": 233,
     "metadata": {},
     "output_type": "execute_result"
    }
   ],
   "source": [
    "grid.fit(X_trainp,y_train)"
   ]
  },
  {
   "cell_type": "code",
   "execution_count": 234,
   "id": "bf3a5a83",
   "metadata": {},
   "outputs": [
    {
     "data": {
      "text/plain": [
       "{'C': 0.01}"
      ]
     },
     "execution_count": 234,
     "metadata": {},
     "output_type": "execute_result"
    }
   ],
   "source": [
    "grid.best_params_"
   ]
  },
  {
   "cell_type": "code",
   "execution_count": 235,
   "id": "bbe3858d",
   "metadata": {},
   "outputs": [
    {
     "data": {
      "text/plain": [
       "0.43597501463985944"
      ]
     },
     "execution_count": 235,
     "metadata": {},
     "output_type": "execute_result"
    }
   ],
   "source": [
    "grid.score(X_testq, y_test)"
   ]
  },
  {
   "cell_type": "markdown",
   "id": "c3b92f52",
   "metadata": {},
   "source": [
    "It's helped. Yet, the outcome still has room to improve."
   ]
  },
  {
   "cell_type": "code",
   "execution_count": 236,
   "id": "338022b2",
   "metadata": {},
   "outputs": [],
   "source": [
    "vectr = CountVectorizer(min_df=5).fit(X_train)\n",
    "X_trainr = vectr.transform(X_train)"
   ]
  },
  {
   "cell_type": "code",
   "execution_count": 237,
   "id": "1c5a6388",
   "metadata": {},
   "outputs": [
    {
     "data": {
      "text/plain": [
       "\"<10245x9480 sparse matrix of type '<class 'numpy.int64'>'\\n\\twith 796737 stored elements in Compressed Sparse Row format>\""
      ]
     },
     "execution_count": 237,
     "metadata": {},
     "output_type": "execute_result"
    }
   ],
   "source": [
    "repr(X_trainr)"
   ]
  },
  {
   "cell_type": "code",
   "execution_count": 238,
   "id": "35f7534d",
   "metadata": {},
   "outputs": [
    {
     "name": "stdout",
     "output_type": "stream",
     "text": [
      "['00', '000', '00am', '00pm', '01', '02', '03', '04', '05', '06', '07', '08', '09', '0900', '10', '100', '1000', '100m', '101', '1030', '104', '105', '108', '109', '10am', '10min', '10mins', '10pm', '10th', '11', '110', '1100', '112', '115', '11am', '11pm', '11th', '12', '120', '1200', '125', '129', '12pm', '12th', '13', '130', '1300', '135', '139', '13th']\n"
     ]
    }
   ],
   "source": [
    "feature_names=vectr.get_feature_names()\n",
    "print(feature_names[0:50])"
   ]
  },
  {
   "cell_type": "code",
   "execution_count": 239,
   "id": "718fc083",
   "metadata": {},
   "outputs": [
    {
     "name": "stderr",
     "output_type": "stream",
     "text": [
      "/Users/YuwenChiu/anaconda3/lib/python3.7/site-packages/sklearn/linear_model/_logistic.py:765: ConvergenceWarning: lbfgs failed to converge (status=1):\n",
      "STOP: TOTAL NO. of ITERATIONS REACHED LIMIT.\n",
      "\n",
      "Increase the number of iterations (max_iter) or scale the data as shown in:\n",
      "    https://scikit-learn.org/stable/modules/preprocessing.html\n",
      "Please also refer to the documentation for alternative solver options:\n",
      "    https://scikit-learn.org/stable/modules/linear_model.html#logistic-regression\n",
      "  extra_warning_msg=_LOGISTIC_SOLVER_CONVERGENCE_MSG)\n",
      "/Users/YuwenChiu/anaconda3/lib/python3.7/site-packages/sklearn/linear_model/_logistic.py:765: ConvergenceWarning: lbfgs failed to converge (status=1):\n",
      "STOP: TOTAL NO. of ITERATIONS REACHED LIMIT.\n",
      "\n",
      "Increase the number of iterations (max_iter) or scale the data as shown in:\n",
      "    https://scikit-learn.org/stable/modules/preprocessing.html\n",
      "Please also refer to the documentation for alternative solver options:\n",
      "    https://scikit-learn.org/stable/modules/linear_model.html#logistic-regression\n",
      "  extra_warning_msg=_LOGISTIC_SOLVER_CONVERGENCE_MSG)\n",
      "/Users/YuwenChiu/anaconda3/lib/python3.7/site-packages/sklearn/linear_model/_logistic.py:765: ConvergenceWarning: lbfgs failed to converge (status=1):\n",
      "STOP: TOTAL NO. of ITERATIONS REACHED LIMIT.\n",
      "\n",
      "Increase the number of iterations (max_iter) or scale the data as shown in:\n",
      "    https://scikit-learn.org/stable/modules/preprocessing.html\n",
      "Please also refer to the documentation for alternative solver options:\n",
      "    https://scikit-learn.org/stable/modules/linear_model.html#logistic-regression\n",
      "  extra_warning_msg=_LOGISTIC_SOLVER_CONVERGENCE_MSG)\n",
      "/Users/YuwenChiu/anaconda3/lib/python3.7/site-packages/sklearn/linear_model/_logistic.py:765: ConvergenceWarning: lbfgs failed to converge (status=1):\n",
      "STOP: TOTAL NO. of ITERATIONS REACHED LIMIT.\n",
      "\n",
      "Increase the number of iterations (max_iter) or scale the data as shown in:\n",
      "    https://scikit-learn.org/stable/modules/preprocessing.html\n",
      "Please also refer to the documentation for alternative solver options:\n",
      "    https://scikit-learn.org/stable/modules/linear_model.html#logistic-regression\n",
      "  extra_warning_msg=_LOGISTIC_SOLVER_CONVERGENCE_MSG)\n",
      "/Users/YuwenChiu/anaconda3/lib/python3.7/site-packages/sklearn/linear_model/_logistic.py:765: ConvergenceWarning: lbfgs failed to converge (status=1):\n",
      "STOP: TOTAL NO. of ITERATIONS REACHED LIMIT.\n",
      "\n",
      "Increase the number of iterations (max_iter) or scale the data as shown in:\n",
      "    https://scikit-learn.org/stable/modules/preprocessing.html\n",
      "Please also refer to the documentation for alternative solver options:\n",
      "    https://scikit-learn.org/stable/modules/linear_model.html#logistic-regression\n",
      "  extra_warning_msg=_LOGISTIC_SOLVER_CONVERGENCE_MSG)\n",
      "/Users/YuwenChiu/anaconda3/lib/python3.7/site-packages/sklearn/linear_model/_logistic.py:765: ConvergenceWarning: lbfgs failed to converge (status=1):\n",
      "STOP: TOTAL NO. of ITERATIONS REACHED LIMIT.\n",
      "\n",
      "Increase the number of iterations (max_iter) or scale the data as shown in:\n",
      "    https://scikit-learn.org/stable/modules/preprocessing.html\n",
      "Please also refer to the documentation for alternative solver options:\n",
      "    https://scikit-learn.org/stable/modules/linear_model.html#logistic-regression\n",
      "  extra_warning_msg=_LOGISTIC_SOLVER_CONVERGENCE_MSG)\n",
      "/Users/YuwenChiu/anaconda3/lib/python3.7/site-packages/sklearn/linear_model/_logistic.py:765: ConvergenceWarning: lbfgs failed to converge (status=1):\n",
      "STOP: TOTAL NO. of ITERATIONS REACHED LIMIT.\n",
      "\n",
      "Increase the number of iterations (max_iter) or scale the data as shown in:\n",
      "    https://scikit-learn.org/stable/modules/preprocessing.html\n",
      "Please also refer to the documentation for alternative solver options:\n",
      "    https://scikit-learn.org/stable/modules/linear_model.html#logistic-regression\n",
      "  extra_warning_msg=_LOGISTIC_SOLVER_CONVERGENCE_MSG)\n",
      "/Users/YuwenChiu/anaconda3/lib/python3.7/site-packages/sklearn/linear_model/_logistic.py:765: ConvergenceWarning: lbfgs failed to converge (status=1):\n",
      "STOP: TOTAL NO. of ITERATIONS REACHED LIMIT.\n",
      "\n",
      "Increase the number of iterations (max_iter) or scale the data as shown in:\n",
      "    https://scikit-learn.org/stable/modules/preprocessing.html\n",
      "Please also refer to the documentation for alternative solver options:\n",
      "    https://scikit-learn.org/stable/modules/linear_model.html#logistic-regression\n",
      "  extra_warning_msg=_LOGISTIC_SOLVER_CONVERGENCE_MSG)\n",
      "/Users/YuwenChiu/anaconda3/lib/python3.7/site-packages/sklearn/linear_model/_logistic.py:765: ConvergenceWarning: lbfgs failed to converge (status=1):\n",
      "STOP: TOTAL NO. of ITERATIONS REACHED LIMIT.\n",
      "\n",
      "Increase the number of iterations (max_iter) or scale the data as shown in:\n",
      "    https://scikit-learn.org/stable/modules/preprocessing.html\n",
      "Please also refer to the documentation for alternative solver options:\n",
      "    https://scikit-learn.org/stable/modules/linear_model.html#logistic-regression\n",
      "  extra_warning_msg=_LOGISTIC_SOLVER_CONVERGENCE_MSG)\n",
      "/Users/YuwenChiu/anaconda3/lib/python3.7/site-packages/sklearn/linear_model/_logistic.py:765: ConvergenceWarning: lbfgs failed to converge (status=1):\n",
      "STOP: TOTAL NO. of ITERATIONS REACHED LIMIT.\n",
      "\n",
      "Increase the number of iterations (max_iter) or scale the data as shown in:\n",
      "    https://scikit-learn.org/stable/modules/preprocessing.html\n",
      "Please also refer to the documentation for alternative solver options:\n",
      "    https://scikit-learn.org/stable/modules/linear_model.html#logistic-regression\n",
      "  extra_warning_msg=_LOGISTIC_SOLVER_CONVERGENCE_MSG)\n",
      "/Users/YuwenChiu/anaconda3/lib/python3.7/site-packages/sklearn/linear_model/_logistic.py:765: ConvergenceWarning: lbfgs failed to converge (status=1):\n",
      "STOP: TOTAL NO. of ITERATIONS REACHED LIMIT.\n",
      "\n",
      "Increase the number of iterations (max_iter) or scale the data as shown in:\n",
      "    https://scikit-learn.org/stable/modules/preprocessing.html\n",
      "Please also refer to the documentation for alternative solver options:\n",
      "    https://scikit-learn.org/stable/modules/linear_model.html#logistic-regression\n",
      "  extra_warning_msg=_LOGISTIC_SOLVER_CONVERGENCE_MSG)\n",
      "/Users/YuwenChiu/anaconda3/lib/python3.7/site-packages/sklearn/linear_model/_logistic.py:765: ConvergenceWarning: lbfgs failed to converge (status=1):\n",
      "STOP: TOTAL NO. of ITERATIONS REACHED LIMIT.\n",
      "\n",
      "Increase the number of iterations (max_iter) or scale the data as shown in:\n",
      "    https://scikit-learn.org/stable/modules/preprocessing.html\n",
      "Please also refer to the documentation for alternative solver options:\n",
      "    https://scikit-learn.org/stable/modules/linear_model.html#logistic-regression\n",
      "  extra_warning_msg=_LOGISTIC_SOLVER_CONVERGENCE_MSG)\n",
      "/Users/YuwenChiu/anaconda3/lib/python3.7/site-packages/sklearn/linear_model/_logistic.py:765: ConvergenceWarning: lbfgs failed to converge (status=1):\n",
      "STOP: TOTAL NO. of ITERATIONS REACHED LIMIT.\n",
      "\n",
      "Increase the number of iterations (max_iter) or scale the data as shown in:\n",
      "    https://scikit-learn.org/stable/modules/preprocessing.html\n",
      "Please also refer to the documentation for alternative solver options:\n",
      "    https://scikit-learn.org/stable/modules/linear_model.html#logistic-regression\n",
      "  extra_warning_msg=_LOGISTIC_SOLVER_CONVERGENCE_MSG)\n",
      "/Users/YuwenChiu/anaconda3/lib/python3.7/site-packages/sklearn/linear_model/_logistic.py:765: ConvergenceWarning: lbfgs failed to converge (status=1):\n",
      "STOP: TOTAL NO. of ITERATIONS REACHED LIMIT.\n",
      "\n",
      "Increase the number of iterations (max_iter) or scale the data as shown in:\n",
      "    https://scikit-learn.org/stable/modules/preprocessing.html\n",
      "Please also refer to the documentation for alternative solver options:\n",
      "    https://scikit-learn.org/stable/modules/linear_model.html#logistic-regression\n",
      "  extra_warning_msg=_LOGISTIC_SOLVER_CONVERGENCE_MSG)\n",
      "/Users/YuwenChiu/anaconda3/lib/python3.7/site-packages/sklearn/linear_model/_logistic.py:765: ConvergenceWarning: lbfgs failed to converge (status=1):\n",
      "STOP: TOTAL NO. of ITERATIONS REACHED LIMIT.\n",
      "\n",
      "Increase the number of iterations (max_iter) or scale the data as shown in:\n",
      "    https://scikit-learn.org/stable/modules/preprocessing.html\n",
      "Please also refer to the documentation for alternative solver options:\n",
      "    https://scikit-learn.org/stable/modules/linear_model.html#logistic-regression\n",
      "  extra_warning_msg=_LOGISTIC_SOLVER_CONVERGENCE_MSG)\n",
      "/Users/YuwenChiu/anaconda3/lib/python3.7/site-packages/sklearn/linear_model/_logistic.py:765: ConvergenceWarning: lbfgs failed to converge (status=1):\n",
      "STOP: TOTAL NO. of ITERATIONS REACHED LIMIT.\n",
      "\n",
      "Increase the number of iterations (max_iter) or scale the data as shown in:\n",
      "    https://scikit-learn.org/stable/modules/preprocessing.html\n",
      "Please also refer to the documentation for alternative solver options:\n",
      "    https://scikit-learn.org/stable/modules/linear_model.html#logistic-regression\n",
      "  extra_warning_msg=_LOGISTIC_SOLVER_CONVERGENCE_MSG)\n"
     ]
    },
    {
     "name": "stderr",
     "output_type": "stream",
     "text": [
      "/Users/YuwenChiu/anaconda3/lib/python3.7/site-packages/sklearn/linear_model/_logistic.py:765: ConvergenceWarning: lbfgs failed to converge (status=1):\n",
      "STOP: TOTAL NO. of ITERATIONS REACHED LIMIT.\n",
      "\n",
      "Increase the number of iterations (max_iter) or scale the data as shown in:\n",
      "    https://scikit-learn.org/stable/modules/preprocessing.html\n",
      "Please also refer to the documentation for alternative solver options:\n",
      "    https://scikit-learn.org/stable/modules/linear_model.html#logistic-regression\n",
      "  extra_warning_msg=_LOGISTIC_SOLVER_CONVERGENCE_MSG)\n"
     ]
    },
    {
     "data": {
      "text/plain": [
       "GridSearchCV(cv=5, estimator=LogisticRegression(),\n",
       "             param_grid={'C': [0.001, 0.01, 0.1, 1, 10]})"
      ]
     },
     "execution_count": 239,
     "metadata": {},
     "output_type": "execute_result"
    }
   ],
   "source": [
    "grid = GridSearchCV(LogisticRegression(), param_grid, cv=5)\n",
    "grid.fit(X_trainr, y_train)"
   ]
  },
  {
   "cell_type": "code",
   "execution_count": 240,
   "id": "634aa493",
   "metadata": {},
   "outputs": [
    {
     "data": {
      "text/plain": [
       "0.5998047828208882"
      ]
     },
     "execution_count": 240,
     "metadata": {},
     "output_type": "execute_result"
    }
   ],
   "source": [
    "grid.best_score_"
   ]
  },
  {
   "cell_type": "markdown",
   "id": "f8920aa8",
   "metadata": {},
   "source": [
    "#### LR with tf-idf"
   ]
  },
  {
   "cell_type": "markdown",
   "id": "711e70ed",
   "metadata": {},
   "source": [
    "Now, let us try the method by scaling data and tf-idf."
   ]
  },
  {
   "cell_type": "code",
   "execution_count": 241,
   "id": "64c146b6",
   "metadata": {},
   "outputs": [],
   "source": [
    "pipe = Pipeline([('scaler',TfidfVectorizer(min_df=5)),('logisticregression',LogisticRegression())])"
   ]
  },
  {
   "cell_type": "code",
   "execution_count": 242,
   "id": "362bd621",
   "metadata": {},
   "outputs": [],
   "source": [
    "new_param_grid={'logisticregression__C':[0.001,0.01,0.10,1,10]}"
   ]
  },
  {
   "cell_type": "code",
   "execution_count": 243,
   "id": "c9198e6f",
   "metadata": {},
   "outputs": [],
   "source": [
    "new_grid=GridSearchCV(pipe, param_grid=new_param_grid,cv=5)"
   ]
  },
  {
   "cell_type": "code",
   "execution_count": 244,
   "id": "d7be4bf8",
   "metadata": {},
   "outputs": [
    {
     "name": "stderr",
     "output_type": "stream",
     "text": [
      "/Users/YuwenChiu/anaconda3/lib/python3.7/site-packages/sklearn/linear_model/_logistic.py:765: ConvergenceWarning: lbfgs failed to converge (status=1):\n",
      "STOP: TOTAL NO. of ITERATIONS REACHED LIMIT.\n",
      "\n",
      "Increase the number of iterations (max_iter) or scale the data as shown in:\n",
      "    https://scikit-learn.org/stable/modules/preprocessing.html\n",
      "Please also refer to the documentation for alternative solver options:\n",
      "    https://scikit-learn.org/stable/modules/linear_model.html#logistic-regression\n",
      "  extra_warning_msg=_LOGISTIC_SOLVER_CONVERGENCE_MSG)\n",
      "/Users/YuwenChiu/anaconda3/lib/python3.7/site-packages/sklearn/linear_model/_logistic.py:765: ConvergenceWarning: lbfgs failed to converge (status=1):\n",
      "STOP: TOTAL NO. of ITERATIONS REACHED LIMIT.\n",
      "\n",
      "Increase the number of iterations (max_iter) or scale the data as shown in:\n",
      "    https://scikit-learn.org/stable/modules/preprocessing.html\n",
      "Please also refer to the documentation for alternative solver options:\n",
      "    https://scikit-learn.org/stable/modules/linear_model.html#logistic-regression\n",
      "  extra_warning_msg=_LOGISTIC_SOLVER_CONVERGENCE_MSG)\n",
      "/Users/YuwenChiu/anaconda3/lib/python3.7/site-packages/sklearn/linear_model/_logistic.py:765: ConvergenceWarning: lbfgs failed to converge (status=1):\n",
      "STOP: TOTAL NO. of ITERATIONS REACHED LIMIT.\n",
      "\n",
      "Increase the number of iterations (max_iter) or scale the data as shown in:\n",
      "    https://scikit-learn.org/stable/modules/preprocessing.html\n",
      "Please also refer to the documentation for alternative solver options:\n",
      "    https://scikit-learn.org/stable/modules/linear_model.html#logistic-regression\n",
      "  extra_warning_msg=_LOGISTIC_SOLVER_CONVERGENCE_MSG)\n",
      "/Users/YuwenChiu/anaconda3/lib/python3.7/site-packages/sklearn/linear_model/_logistic.py:765: ConvergenceWarning: lbfgs failed to converge (status=1):\n",
      "STOP: TOTAL NO. of ITERATIONS REACHED LIMIT.\n",
      "\n",
      "Increase the number of iterations (max_iter) or scale the data as shown in:\n",
      "    https://scikit-learn.org/stable/modules/preprocessing.html\n",
      "Please also refer to the documentation for alternative solver options:\n",
      "    https://scikit-learn.org/stable/modules/linear_model.html#logistic-regression\n",
      "  extra_warning_msg=_LOGISTIC_SOLVER_CONVERGENCE_MSG)\n",
      "/Users/YuwenChiu/anaconda3/lib/python3.7/site-packages/sklearn/linear_model/_logistic.py:765: ConvergenceWarning: lbfgs failed to converge (status=1):\n",
      "STOP: TOTAL NO. of ITERATIONS REACHED LIMIT.\n",
      "\n",
      "Increase the number of iterations (max_iter) or scale the data as shown in:\n",
      "    https://scikit-learn.org/stable/modules/preprocessing.html\n",
      "Please also refer to the documentation for alternative solver options:\n",
      "    https://scikit-learn.org/stable/modules/linear_model.html#logistic-regression\n",
      "  extra_warning_msg=_LOGISTIC_SOLVER_CONVERGENCE_MSG)\n",
      "/Users/YuwenChiu/anaconda3/lib/python3.7/site-packages/sklearn/linear_model/_logistic.py:765: ConvergenceWarning: lbfgs failed to converge (status=1):\n",
      "STOP: TOTAL NO. of ITERATIONS REACHED LIMIT.\n",
      "\n",
      "Increase the number of iterations (max_iter) or scale the data as shown in:\n",
      "    https://scikit-learn.org/stable/modules/preprocessing.html\n",
      "Please also refer to the documentation for alternative solver options:\n",
      "    https://scikit-learn.org/stable/modules/linear_model.html#logistic-regression\n",
      "  extra_warning_msg=_LOGISTIC_SOLVER_CONVERGENCE_MSG)\n",
      "/Users/YuwenChiu/anaconda3/lib/python3.7/site-packages/sklearn/linear_model/_logistic.py:765: ConvergenceWarning: lbfgs failed to converge (status=1):\n",
      "STOP: TOTAL NO. of ITERATIONS REACHED LIMIT.\n",
      "\n",
      "Increase the number of iterations (max_iter) or scale the data as shown in:\n",
      "    https://scikit-learn.org/stable/modules/preprocessing.html\n",
      "Please also refer to the documentation for alternative solver options:\n",
      "    https://scikit-learn.org/stable/modules/linear_model.html#logistic-regression\n",
      "  extra_warning_msg=_LOGISTIC_SOLVER_CONVERGENCE_MSG)\n",
      "/Users/YuwenChiu/anaconda3/lib/python3.7/site-packages/sklearn/linear_model/_logistic.py:765: ConvergenceWarning: lbfgs failed to converge (status=1):\n",
      "STOP: TOTAL NO. of ITERATIONS REACHED LIMIT.\n",
      "\n",
      "Increase the number of iterations (max_iter) or scale the data as shown in:\n",
      "    https://scikit-learn.org/stable/modules/preprocessing.html\n",
      "Please also refer to the documentation for alternative solver options:\n",
      "    https://scikit-learn.org/stable/modules/linear_model.html#logistic-regression\n",
      "  extra_warning_msg=_LOGISTIC_SOLVER_CONVERGENCE_MSG)\n",
      "/Users/YuwenChiu/anaconda3/lib/python3.7/site-packages/sklearn/linear_model/_logistic.py:765: ConvergenceWarning: lbfgs failed to converge (status=1):\n",
      "STOP: TOTAL NO. of ITERATIONS REACHED LIMIT.\n",
      "\n",
      "Increase the number of iterations (max_iter) or scale the data as shown in:\n",
      "    https://scikit-learn.org/stable/modules/preprocessing.html\n",
      "Please also refer to the documentation for alternative solver options:\n",
      "    https://scikit-learn.org/stable/modules/linear_model.html#logistic-regression\n",
      "  extra_warning_msg=_LOGISTIC_SOLVER_CONVERGENCE_MSG)\n",
      "/Users/YuwenChiu/anaconda3/lib/python3.7/site-packages/sklearn/linear_model/_logistic.py:765: ConvergenceWarning: lbfgs failed to converge (status=1):\n",
      "STOP: TOTAL NO. of ITERATIONS REACHED LIMIT.\n",
      "\n",
      "Increase the number of iterations (max_iter) or scale the data as shown in:\n",
      "    https://scikit-learn.org/stable/modules/preprocessing.html\n",
      "Please also refer to the documentation for alternative solver options:\n",
      "    https://scikit-learn.org/stable/modules/linear_model.html#logistic-regression\n",
      "  extra_warning_msg=_LOGISTIC_SOLVER_CONVERGENCE_MSG)\n",
      "/Users/YuwenChiu/anaconda3/lib/python3.7/site-packages/sklearn/linear_model/_logistic.py:765: ConvergenceWarning: lbfgs failed to converge (status=1):\n",
      "STOP: TOTAL NO. of ITERATIONS REACHED LIMIT.\n",
      "\n",
      "Increase the number of iterations (max_iter) or scale the data as shown in:\n",
      "    https://scikit-learn.org/stable/modules/preprocessing.html\n",
      "Please also refer to the documentation for alternative solver options:\n",
      "    https://scikit-learn.org/stable/modules/linear_model.html#logistic-regression\n",
      "  extra_warning_msg=_LOGISTIC_SOLVER_CONVERGENCE_MSG)\n"
     ]
    },
    {
     "data": {
      "text/plain": [
       "GridSearchCV(cv=5,\n",
       "             estimator=Pipeline(steps=[('scaler', TfidfVectorizer(min_df=5)),\n",
       "                                       ('logisticregression',\n",
       "                                        LogisticRegression())]),\n",
       "             param_grid={'logisticregression__C': [0.001, 0.01, 0.1, 1, 10]})"
      ]
     },
     "execution_count": 244,
     "metadata": {},
     "output_type": "execute_result"
    }
   ],
   "source": [
    "new_grid.fit(X_train,y_train)"
   ]
  },
  {
   "cell_type": "code",
   "execution_count": 245,
   "id": "83c8c71a",
   "metadata": {},
   "outputs": [
    {
     "data": {
      "text/plain": [
       "0.605758906783797"
      ]
     },
     "execution_count": 245,
     "metadata": {},
     "output_type": "execute_result"
    }
   ],
   "source": [
    "new_grid.best_score_"
   ]
  },
  {
   "cell_type": "markdown",
   "id": "f890485c",
   "metadata": {},
   "source": [
    "It's improved."
   ]
  },
  {
   "cell_type": "markdown",
   "id": "5e62685e",
   "metadata": {},
   "source": [
    "Now, we are a bit curious what are the top 10 words in high vs low rating."
   ]
  },
  {
   "cell_type": "code",
   "execution_count": 363,
   "id": "4f604649",
   "metadata": {},
   "outputs": [],
   "source": [
    "vectorizer=new_grid.best_estimator_.named_steps['scaler']"
   ]
  },
  {
   "cell_type": "code",
   "execution_count": 364,
   "id": "027d640d",
   "metadata": {},
   "outputs": [],
   "source": [
    "X_train_tf = vectorizer.transform(X_train)"
   ]
  },
  {
   "cell_type": "code",
   "execution_count": 365,
   "id": "70753a65",
   "metadata": {},
   "outputs": [],
   "source": [
    "max_val = X_train_tf.max(axis=0).toarray().ravel()"
   ]
  },
  {
   "cell_type": "code",
   "execution_count": 366,
   "id": "674e365f",
   "metadata": {},
   "outputs": [
    {
     "data": {
      "text/plain": [
       "array([0.47318838, 0.38441803, 0.47232338, 0.23588155, 0.48960242,\n",
       "       0.5009571 , 0.38578445, 0.48553973, 0.39158735, 0.40938688])"
      ]
     },
     "execution_count": 366,
     "metadata": {},
     "output_type": "execute_result"
    }
   ],
   "source": [
    "max_val[0:10]"
   ]
  },
  {
   "cell_type": "code",
   "execution_count": 367,
   "id": "2bee858e",
   "metadata": {},
   "outputs": [],
   "source": [
    "sorted_by_tfidf = max_val.argsort()"
   ]
  },
  {
   "cell_type": "code",
   "execution_count": 368,
   "id": "82a98ef9",
   "metadata": {},
   "outputs": [],
   "source": [
    "feature_names = np.array(vectorizer.get_feature_names())"
   ]
  },
  {
   "cell_type": "code",
   "execution_count": 369,
   "id": "79de30d3",
   "metadata": {},
   "outputs": [
    {
     "name": "stdout",
     "output_type": "stream",
     "text": [
      "['you__ç_é' 'aloe' 'timeshares' 'absolut' 'commodity' 'onward' 'deet'\n",
      " 'foodthe' 'walkways' 'ounce' 'straighten' 'bohemia' 'adios' 'cameras'\n",
      " 'sax' 'skewer' 'hadn__ç_é_' 'richie' 'thermos' 'por' 'spas'\n",
      " 'groundskeeper' 'roulette' 'himitsu' 'role' 'we__ç_éêl' 'merchandise'\n",
      " 'education' 'fountains' 'blatantly']\n"
     ]
    }
   ],
   "source": [
    "print(feature_names[sorted_by_tfidf[:30]])"
   ]
  },
  {
   "cell_type": "code",
   "execution_count": 370,
   "id": "a2edf770",
   "metadata": {},
   "outputs": [
    {
     "name": "stdout",
     "output_type": "stream",
     "text": [
      "['miramar' 'fax' 'phoenix' 'riu' 'lenox' 'ic' 'drury' 'colomba' 'cosy'\n",
      " 'excelent' 'casablanca' 'radisson' 'fita' 'residence' 'silla' 'brian'\n",
      " 'kahala' 'bounty' 'draycott' 'h10' 'alessandra' 'rue' 'aviatic' 'rincon'\n",
      " 'adagio' 'casitas' 'mouse' 'pa' 'commonwealth' 'hostal']\n"
     ]
    }
   ],
   "source": [
    "print(feature_names[sorted_by_tfidf[-30:]])"
   ]
  },
  {
   "cell_type": "code",
   "execution_count": 371,
   "id": "cd8d9302",
   "metadata": {},
   "outputs": [],
   "source": [
    "coefs = new_grid.best_estimator_.named_steps['logisticregression'].coef_[0]"
   ]
  },
  {
   "cell_type": "code",
   "execution_count": 372,
   "id": "5f641bd3",
   "metadata": {},
   "outputs": [],
   "source": [
    "top_pos=np.argsort(coefs)[-10:]\n",
    "top_neg=np.argsort(coefs)[:10]\n",
    "most_infl=np.hstack([top_neg,top_pos])"
   ]
  },
  {
   "cell_type": "code",
   "execution_count": 373,
   "id": "79e6badc",
   "metadata": {},
   "outputs": [
    {
     "data": {
      "text/plain": [
       "Text(0.5, 0, 'Feature')"
      ]
     },
     "execution_count": 373,
     "metadata": {},
     "output_type": "execute_result"
    },
    {
     "data": {
      "image/png": "[encoded data removed]",
      "text/plain": [
       "<Figure size 1080x360 with 1 Axes>"
      ]
     },
     "metadata": {
      "needs_background": "light"
     },
     "output_type": "display_data"
    }
   ],
   "source": [
    "plt.figure(figsize=(15, 5))\n",
    "plt.bar(np.arange(20), coefs[most_infl])\n",
    "feature_names = np.array(feature_names)\n",
    "plt.subplots_adjust(bottom=0.3)\n",
    "plt.xticks(np.arange(0,20),feature_names[most_infl], rotation=60,ha=\"right\")\n",
    "plt.ylabel(\"Coefficient magnitude\")\n",
    "plt.xlabel(\"Feature\")"
   ]
  },
  {
   "cell_type": "markdown",
   "id": "78cc0287",
   "metadata": {},
   "source": [
    "Then, we can tell those words from above table. It may just for fun to let find some intering things in the data."
   ]
  },
  {
   "cell_type": "markdown",
   "id": "9de58453",
   "metadata": {},
   "source": [
    "#### LR with N-Grams"
   ]
  },
  {
   "cell_type": "markdown",
   "id": "60796f97",
   "metadata": {},
   "source": [
    "There is another method might bring helps. Sometimes, the words have meaning when they are consecutive and N-Grams method can help we do this. Let us try trigrams."
   ]
  },
  {
   "cell_type": "code",
   "execution_count": 254,
   "id": "71ae62cd",
   "metadata": {},
   "outputs": [],
   "source": [
    "pipe = Pipeline([('scaler',TfidfVectorizer(min_df=5)),('logisticregression',LogisticRegression())])"
   ]
  },
  {
   "cell_type": "code",
   "execution_count": 264,
   "id": "51dd9e33",
   "metadata": {},
   "outputs": [],
   "source": [
    "tri_param_grid={'logisticregression__C':[0.001,0.01,0.10,1,10],'scaler__ngram_range':[(1,3)]}"
   ]
  },
  {
   "cell_type": "code",
   "execution_count": 265,
   "id": "d68c2103",
   "metadata": {},
   "outputs": [],
   "source": [
    "ggrid=GridSearchCV(pipe, param_grid=tri_param_grid,cv=5)"
   ]
  },
  {
   "cell_type": "code",
   "execution_count": 266,
   "id": "d54574b2",
   "metadata": {},
   "outputs": [
    {
     "name": "stderr",
     "output_type": "stream",
     "text": [
      "/Users/YuwenChiu/anaconda3/lib/python3.7/site-packages/sklearn/linear_model/_logistic.py:765: ConvergenceWarning: lbfgs failed to converge (status=1):\n",
      "STOP: TOTAL NO. of ITERATIONS REACHED LIMIT.\n",
      "\n",
      "Increase the number of iterations (max_iter) or scale the data as shown in:\n",
      "    https://scikit-learn.org/stable/modules/preprocessing.html\n",
      "Please also refer to the documentation for alternative solver options:\n",
      "    https://scikit-learn.org/stable/modules/linear_model.html#logistic-regression\n",
      "  extra_warning_msg=_LOGISTIC_SOLVER_CONVERGENCE_MSG)\n",
      "/Users/YuwenChiu/anaconda3/lib/python3.7/site-packages/sklearn/linear_model/_logistic.py:765: ConvergenceWarning: lbfgs failed to converge (status=1):\n",
      "STOP: TOTAL NO. of ITERATIONS REACHED LIMIT.\n",
      "\n",
      "Increase the number of iterations (max_iter) or scale the data as shown in:\n",
      "    https://scikit-learn.org/stable/modules/preprocessing.html\n",
      "Please also refer to the documentation for alternative solver options:\n",
      "    https://scikit-learn.org/stable/modules/linear_model.html#logistic-regression\n",
      "  extra_warning_msg=_LOGISTIC_SOLVER_CONVERGENCE_MSG)\n",
      "/Users/YuwenChiu/anaconda3/lib/python3.7/site-packages/sklearn/linear_model/_logistic.py:765: ConvergenceWarning: lbfgs failed to converge (status=1):\n",
      "STOP: TOTAL NO. of ITERATIONS REACHED LIMIT.\n",
      "\n",
      "Increase the number of iterations (max_iter) or scale the data as shown in:\n",
      "    https://scikit-learn.org/stable/modules/preprocessing.html\n",
      "Please also refer to the documentation for alternative solver options:\n",
      "    https://scikit-learn.org/stable/modules/linear_model.html#logistic-regression\n",
      "  extra_warning_msg=_LOGISTIC_SOLVER_CONVERGENCE_MSG)\n",
      "/Users/YuwenChiu/anaconda3/lib/python3.7/site-packages/sklearn/linear_model/_logistic.py:765: ConvergenceWarning: lbfgs failed to converge (status=1):\n",
      "STOP: TOTAL NO. of ITERATIONS REACHED LIMIT.\n",
      "\n",
      "Increase the number of iterations (max_iter) or scale the data as shown in:\n",
      "    https://scikit-learn.org/stable/modules/preprocessing.html\n",
      "Please also refer to the documentation for alternative solver options:\n",
      "    https://scikit-learn.org/stable/modules/linear_model.html#logistic-regression\n",
      "  extra_warning_msg=_LOGISTIC_SOLVER_CONVERGENCE_MSG)\n",
      "/Users/YuwenChiu/anaconda3/lib/python3.7/site-packages/sklearn/linear_model/_logistic.py:765: ConvergenceWarning: lbfgs failed to converge (status=1):\n",
      "STOP: TOTAL NO. of ITERATIONS REACHED LIMIT.\n",
      "\n",
      "Increase the number of iterations (max_iter) or scale the data as shown in:\n",
      "    https://scikit-learn.org/stable/modules/preprocessing.html\n",
      "Please also refer to the documentation for alternative solver options:\n",
      "    https://scikit-learn.org/stable/modules/linear_model.html#logistic-regression\n",
      "  extra_warning_msg=_LOGISTIC_SOLVER_CONVERGENCE_MSG)\n",
      "/Users/YuwenChiu/anaconda3/lib/python3.7/site-packages/sklearn/linear_model/_logistic.py:765: ConvergenceWarning: lbfgs failed to converge (status=1):\n",
      "STOP: TOTAL NO. of ITERATIONS REACHED LIMIT.\n",
      "\n",
      "Increase the number of iterations (max_iter) or scale the data as shown in:\n",
      "    https://scikit-learn.org/stable/modules/preprocessing.html\n",
      "Please also refer to the documentation for alternative solver options:\n",
      "    https://scikit-learn.org/stable/modules/linear_model.html#logistic-regression\n",
      "  extra_warning_msg=_LOGISTIC_SOLVER_CONVERGENCE_MSG)\n",
      "/Users/YuwenChiu/anaconda3/lib/python3.7/site-packages/sklearn/linear_model/_logistic.py:765: ConvergenceWarning: lbfgs failed to converge (status=1):\n",
      "STOP: TOTAL NO. of ITERATIONS REACHED LIMIT.\n",
      "\n",
      "Increase the number of iterations (max_iter) or scale the data as shown in:\n",
      "    https://scikit-learn.org/stable/modules/preprocessing.html\n",
      "Please also refer to the documentation for alternative solver options:\n",
      "    https://scikit-learn.org/stable/modules/linear_model.html#logistic-regression\n",
      "  extra_warning_msg=_LOGISTIC_SOLVER_CONVERGENCE_MSG)\n",
      "/Users/YuwenChiu/anaconda3/lib/python3.7/site-packages/sklearn/linear_model/_logistic.py:765: ConvergenceWarning: lbfgs failed to converge (status=1):\n",
      "STOP: TOTAL NO. of ITERATIONS REACHED LIMIT.\n",
      "\n",
      "Increase the number of iterations (max_iter) or scale the data as shown in:\n",
      "    https://scikit-learn.org/stable/modules/preprocessing.html\n",
      "Please also refer to the documentation for alternative solver options:\n",
      "    https://scikit-learn.org/stable/modules/linear_model.html#logistic-regression\n",
      "  extra_warning_msg=_LOGISTIC_SOLVER_CONVERGENCE_MSG)\n",
      "/Users/YuwenChiu/anaconda3/lib/python3.7/site-packages/sklearn/linear_model/_logistic.py:765: ConvergenceWarning: lbfgs failed to converge (status=1):\n",
      "STOP: TOTAL NO. of ITERATIONS REACHED LIMIT.\n",
      "\n",
      "Increase the number of iterations (max_iter) or scale the data as shown in:\n",
      "    https://scikit-learn.org/stable/modules/preprocessing.html\n",
      "Please also refer to the documentation for alternative solver options:\n",
      "    https://scikit-learn.org/stable/modules/linear_model.html#logistic-regression\n",
      "  extra_warning_msg=_LOGISTIC_SOLVER_CONVERGENCE_MSG)\n",
      "/Users/YuwenChiu/anaconda3/lib/python3.7/site-packages/sklearn/linear_model/_logistic.py:765: ConvergenceWarning: lbfgs failed to converge (status=1):\n",
      "STOP: TOTAL NO. of ITERATIONS REACHED LIMIT.\n",
      "\n",
      "Increase the number of iterations (max_iter) or scale the data as shown in:\n",
      "    https://scikit-learn.org/stable/modules/preprocessing.html\n",
      "Please also refer to the documentation for alternative solver options:\n",
      "    https://scikit-learn.org/stable/modules/linear_model.html#logistic-regression\n",
      "  extra_warning_msg=_LOGISTIC_SOLVER_CONVERGENCE_MSG)\n",
      "/Users/YuwenChiu/anaconda3/lib/python3.7/site-packages/sklearn/linear_model/_logistic.py:765: ConvergenceWarning: lbfgs failed to converge (status=1):\n",
      "STOP: TOTAL NO. of ITERATIONS REACHED LIMIT.\n",
      "\n",
      "Increase the number of iterations (max_iter) or scale the data as shown in:\n",
      "    https://scikit-learn.org/stable/modules/preprocessing.html\n",
      "Please also refer to the documentation for alternative solver options:\n",
      "    https://scikit-learn.org/stable/modules/linear_model.html#logistic-regression\n",
      "  extra_warning_msg=_LOGISTIC_SOLVER_CONVERGENCE_MSG)\n"
     ]
    },
    {
     "data": {
      "text/plain": [
       "GridSearchCV(cv=5,\n",
       "             estimator=Pipeline(steps=[('scaler', TfidfVectorizer(min_df=5)),\n",
       "                                       ('logisticregression',\n",
       "                                        LogisticRegression())]),\n",
       "             param_grid={'logisticregression__C': [0.001, 0.01, 0.1, 1, 10],\n",
       "                         'scaler__ngram_range': [(1, 4)]})"
      ]
     },
     "execution_count": 266,
     "metadata": {},
     "output_type": "execute_result"
    }
   ],
   "source": [
    "ggrid.fit(X_train,y_train)"
   ]
  },
  {
   "cell_type": "code",
   "execution_count": 267,
   "id": "c71b5d5a",
   "metadata": {},
   "outputs": [
    {
     "data": {
      "text/plain": [
       "0.6027330405075646"
      ]
     },
     "execution_count": 267,
     "metadata": {},
     "output_type": "execute_result"
    }
   ],
   "source": [
    "ggrid.best_score_"
   ]
  },
  {
   "cell_type": "code",
   "execution_count": 259,
   "id": "490706fd",
   "metadata": {},
   "outputs": [
    {
     "data": {
      "text/plain": [
       "{'logisticregression__C': 1, 'scaler__ngram_range': (1, 3)}"
      ]
     },
     "execution_count": 259,
     "metadata": {},
     "output_type": "execute_result"
    }
   ],
   "source": [
    "ggrid.best_params_"
   ]
  },
  {
   "cell_type": "markdown",
   "id": "f7dea1a5",
   "metadata": {},
   "source": [
    "It seems do not bring much help for the result."
   ]
  },
  {
   "cell_type": "markdown",
   "id": "0eb72e09",
   "metadata": {},
   "source": [
    "Let us see if we use bigrams."
   ]
  },
  {
   "cell_type": "code",
   "execution_count": 260,
   "id": "a4ee07b4",
   "metadata": {},
   "outputs": [],
   "source": [
    "bi_param_grid={'logisticregression__C':[0.001,0.01,0.10,1,10],'scaler__ngram_range':[(1,2)]}"
   ]
  },
  {
   "cell_type": "code",
   "execution_count": 261,
   "id": "8551d451",
   "metadata": {},
   "outputs": [],
   "source": [
    "ggrid2=GridSearchCV(pipe, param_grid=bi_param_grid,cv=5)"
   ]
  },
  {
   "cell_type": "code",
   "execution_count": 262,
   "id": "a5c9e7e0",
   "metadata": {},
   "outputs": [
    {
     "name": "stderr",
     "output_type": "stream",
     "text": [
      "/Users/YuwenChiu/anaconda3/lib/python3.7/site-packages/sklearn/linear_model/_logistic.py:765: ConvergenceWarning: lbfgs failed to converge (status=1):\n",
      "STOP: TOTAL NO. of ITERATIONS REACHED LIMIT.\n",
      "\n",
      "Increase the number of iterations (max_iter) or scale the data as shown in:\n",
      "    https://scikit-learn.org/stable/modules/preprocessing.html\n",
      "Please also refer to the documentation for alternative solver options:\n",
      "    https://scikit-learn.org/stable/modules/linear_model.html#logistic-regression\n",
      "  extra_warning_msg=_LOGISTIC_SOLVER_CONVERGENCE_MSG)\n",
      "/Users/YuwenChiu/anaconda3/lib/python3.7/site-packages/sklearn/linear_model/_logistic.py:765: ConvergenceWarning: lbfgs failed to converge (status=1):\n",
      "STOP: TOTAL NO. of ITERATIONS REACHED LIMIT.\n",
      "\n",
      "Increase the number of iterations (max_iter) or scale the data as shown in:\n",
      "    https://scikit-learn.org/stable/modules/preprocessing.html\n",
      "Please also refer to the documentation for alternative solver options:\n",
      "    https://scikit-learn.org/stable/modules/linear_model.html#logistic-regression\n",
      "  extra_warning_msg=_LOGISTIC_SOLVER_CONVERGENCE_MSG)\n",
      "/Users/YuwenChiu/anaconda3/lib/python3.7/site-packages/sklearn/linear_model/_logistic.py:765: ConvergenceWarning: lbfgs failed to converge (status=1):\n",
      "STOP: TOTAL NO. of ITERATIONS REACHED LIMIT.\n",
      "\n",
      "Increase the number of iterations (max_iter) or scale the data as shown in:\n",
      "    https://scikit-learn.org/stable/modules/preprocessing.html\n",
      "Please also refer to the documentation for alternative solver options:\n",
      "    https://scikit-learn.org/stable/modules/linear_model.html#logistic-regression\n",
      "  extra_warning_msg=_LOGISTIC_SOLVER_CONVERGENCE_MSG)\n",
      "/Users/YuwenChiu/anaconda3/lib/python3.7/site-packages/sklearn/linear_model/_logistic.py:765: ConvergenceWarning: lbfgs failed to converge (status=1):\n",
      "STOP: TOTAL NO. of ITERATIONS REACHED LIMIT.\n",
      "\n",
      "Increase the number of iterations (max_iter) or scale the data as shown in:\n",
      "    https://scikit-learn.org/stable/modules/preprocessing.html\n",
      "Please also refer to the documentation for alternative solver options:\n",
      "    https://scikit-learn.org/stable/modules/linear_model.html#logistic-regression\n",
      "  extra_warning_msg=_LOGISTIC_SOLVER_CONVERGENCE_MSG)\n",
      "/Users/YuwenChiu/anaconda3/lib/python3.7/site-packages/sklearn/linear_model/_logistic.py:765: ConvergenceWarning: lbfgs failed to converge (status=1):\n",
      "STOP: TOTAL NO. of ITERATIONS REACHED LIMIT.\n",
      "\n",
      "Increase the number of iterations (max_iter) or scale the data as shown in:\n",
      "    https://scikit-learn.org/stable/modules/preprocessing.html\n",
      "Please also refer to the documentation for alternative solver options:\n",
      "    https://scikit-learn.org/stable/modules/linear_model.html#logistic-regression\n",
      "  extra_warning_msg=_LOGISTIC_SOLVER_CONVERGENCE_MSG)\n",
      "/Users/YuwenChiu/anaconda3/lib/python3.7/site-packages/sklearn/linear_model/_logistic.py:765: ConvergenceWarning: lbfgs failed to converge (status=1):\n",
      "STOP: TOTAL NO. of ITERATIONS REACHED LIMIT.\n",
      "\n",
      "Increase the number of iterations (max_iter) or scale the data as shown in:\n",
      "    https://scikit-learn.org/stable/modules/preprocessing.html\n",
      "Please also refer to the documentation for alternative solver options:\n",
      "    https://scikit-learn.org/stable/modules/linear_model.html#logistic-regression\n",
      "  extra_warning_msg=_LOGISTIC_SOLVER_CONVERGENCE_MSG)\n",
      "/Users/YuwenChiu/anaconda3/lib/python3.7/site-packages/sklearn/linear_model/_logistic.py:765: ConvergenceWarning: lbfgs failed to converge (status=1):\n",
      "STOP: TOTAL NO. of ITERATIONS REACHED LIMIT.\n",
      "\n",
      "Increase the number of iterations (max_iter) or scale the data as shown in:\n",
      "    https://scikit-learn.org/stable/modules/preprocessing.html\n",
      "Please also refer to the documentation for alternative solver options:\n",
      "    https://scikit-learn.org/stable/modules/linear_model.html#logistic-regression\n",
      "  extra_warning_msg=_LOGISTIC_SOLVER_CONVERGENCE_MSG)\n",
      "/Users/YuwenChiu/anaconda3/lib/python3.7/site-packages/sklearn/linear_model/_logistic.py:765: ConvergenceWarning: lbfgs failed to converge (status=1):\n",
      "STOP: TOTAL NO. of ITERATIONS REACHED LIMIT.\n",
      "\n",
      "Increase the number of iterations (max_iter) or scale the data as shown in:\n",
      "    https://scikit-learn.org/stable/modules/preprocessing.html\n",
      "Please also refer to the documentation for alternative solver options:\n",
      "    https://scikit-learn.org/stable/modules/linear_model.html#logistic-regression\n",
      "  extra_warning_msg=_LOGISTIC_SOLVER_CONVERGENCE_MSG)\n",
      "/Users/YuwenChiu/anaconda3/lib/python3.7/site-packages/sklearn/linear_model/_logistic.py:765: ConvergenceWarning: lbfgs failed to converge (status=1):\n",
      "STOP: TOTAL NO. of ITERATIONS REACHED LIMIT.\n",
      "\n",
      "Increase the number of iterations (max_iter) or scale the data as shown in:\n",
      "    https://scikit-learn.org/stable/modules/preprocessing.html\n",
      "Please also refer to the documentation for alternative solver options:\n",
      "    https://scikit-learn.org/stable/modules/linear_model.html#logistic-regression\n",
      "  extra_warning_msg=_LOGISTIC_SOLVER_CONVERGENCE_MSG)\n",
      "/Users/YuwenChiu/anaconda3/lib/python3.7/site-packages/sklearn/linear_model/_logistic.py:765: ConvergenceWarning: lbfgs failed to converge (status=1):\n",
      "STOP: TOTAL NO. of ITERATIONS REACHED LIMIT.\n",
      "\n",
      "Increase the number of iterations (max_iter) or scale the data as shown in:\n",
      "    https://scikit-learn.org/stable/modules/preprocessing.html\n",
      "Please also refer to the documentation for alternative solver options:\n",
      "    https://scikit-learn.org/stable/modules/linear_model.html#logistic-regression\n",
      "  extra_warning_msg=_LOGISTIC_SOLVER_CONVERGENCE_MSG)\n",
      "/Users/YuwenChiu/anaconda3/lib/python3.7/site-packages/sklearn/linear_model/_logistic.py:765: ConvergenceWarning: lbfgs failed to converge (status=1):\n",
      "STOP: TOTAL NO. of ITERATIONS REACHED LIMIT.\n",
      "\n",
      "Increase the number of iterations (max_iter) or scale the data as shown in:\n",
      "    https://scikit-learn.org/stable/modules/preprocessing.html\n",
      "Please also refer to the documentation for alternative solver options:\n",
      "    https://scikit-learn.org/stable/modules/linear_model.html#logistic-regression\n",
      "  extra_warning_msg=_LOGISTIC_SOLVER_CONVERGENCE_MSG)\n"
     ]
    },
    {
     "data": {
      "text/plain": [
       "GridSearchCV(cv=5,\n",
       "             estimator=Pipeline(steps=[('scaler', TfidfVectorizer(min_df=5)),\n",
       "                                       ('logisticregression',\n",
       "                                        LogisticRegression())]),\n",
       "             param_grid={'logisticregression__C': [0.001, 0.01, 0.1, 1, 10],\n",
       "                         'scaler__ngram_range': [(1, 2)]})"
      ]
     },
     "execution_count": 262,
     "metadata": {},
     "output_type": "execute_result"
    }
   ],
   "source": [
    "ggrid2.fit(X_train,y_train)"
   ]
  },
  {
   "cell_type": "code",
   "execution_count": 263,
   "id": "1c397a3c",
   "metadata": {},
   "outputs": [
    {
     "data": {
      "text/plain": [
       "0.6033186920449"
      ]
     },
     "execution_count": 263,
     "metadata": {},
     "output_type": "execute_result"
    }
   ],
   "source": [
    "ggrid2.best_score_"
   ]
  },
  {
   "cell_type": "markdown",
   "id": "7fa6da90",
   "metadata": {},
   "source": [
    "It looks better than trigrams."
   ]
  },
  {
   "cell_type": "markdown",
   "id": "15e699ac",
   "metadata": {},
   "source": [
    "### Gradient Boosting  "
   ]
  },
  {
   "cell_type": "markdown",
   "id": "a7a1a390",
   "metadata": {},
   "source": [
    "Next, let us see if we use gradient boosting model to train the data.   \n",
    "We know the when we use gradient boosting model, the trees are grown sequentially and are kept small (prevent overfitting).   \n",
    "So, maybe this model could work better."
   ]
  },
  {
   "cell_type": "code",
   "execution_count": 274,
   "id": "9b536fd7",
   "metadata": {},
   "outputs": [],
   "source": [
    "gbr = GradientBoostingClassifier().fit(X_trainp, y_train)"
   ]
  },
  {
   "cell_type": "code",
   "execution_count": 275,
   "id": "12900825",
   "metadata": {},
   "outputs": [
    {
     "data": {
      "text/plain": [
       "0.4335350380636346"
      ]
     },
     "execution_count": 275,
     "metadata": {},
     "output_type": "execute_result"
    }
   ],
   "source": [
    "accuracy_score(y_test, gbr.predict(X_testq))"
   ]
  },
  {
   "cell_type": "code",
   "execution_count": 276,
   "id": "b4496c28",
   "metadata": {},
   "outputs": [
    {
     "data": {
      "text/html": [
       "<div>\n",
       "<style scoped>\n",
       "    .dataframe tbody tr th:only-of-type {\n",
       "        vertical-align: middle;\n",
       "    }\n",
       "\n",
       "    .dataframe tbody tr th {\n",
       "        vertical-align: top;\n",
       "    }\n",
       "\n",
       "    .dataframe thead th {\n",
       "        text-align: right;\n",
       "    }\n",
       "</style>\n",
       "<table border=\"1\" class=\"dataframe\">\n",
       "  <thead>\n",
       "    <tr style=\"text-align: right;\">\n",
       "      <th>col_0</th>\n",
       "      <th>1</th>\n",
       "      <th>2</th>\n",
       "      <th>3</th>\n",
       "      <th>4</th>\n",
       "      <th>5</th>\n",
       "    </tr>\n",
       "    <tr>\n",
       "      <th>Rating</th>\n",
       "      <th></th>\n",
       "      <th></th>\n",
       "      <th></th>\n",
       "      <th></th>\n",
       "      <th></th>\n",
       "    </tr>\n",
       "  </thead>\n",
       "  <tbody>\n",
       "    <tr>\n",
       "      <th>1</th>\n",
       "      <td>4</td>\n",
       "      <td>2</td>\n",
       "      <td>1</td>\n",
       "      <td>0</td>\n",
       "      <td>703</td>\n",
       "    </tr>\n",
       "    <tr>\n",
       "      <th>2</th>\n",
       "      <td>13</td>\n",
       "      <td>2</td>\n",
       "      <td>1</td>\n",
       "      <td>1</td>\n",
       "      <td>866</td>\n",
       "    </tr>\n",
       "    <tr>\n",
       "      <th>3</th>\n",
       "      <td>11</td>\n",
       "      <td>3</td>\n",
       "      <td>1</td>\n",
       "      <td>2</td>\n",
       "      <td>1075</td>\n",
       "    </tr>\n",
       "    <tr>\n",
       "      <th>4</th>\n",
       "      <td>26</td>\n",
       "      <td>4</td>\n",
       "      <td>8</td>\n",
       "      <td>9</td>\n",
       "      <td>3022</td>\n",
       "    </tr>\n",
       "    <tr>\n",
       "      <th>5</th>\n",
       "      <td>39</td>\n",
       "      <td>5</td>\n",
       "      <td>13</td>\n",
       "      <td>9</td>\n",
       "      <td>4426</td>\n",
       "    </tr>\n",
       "  </tbody>\n",
       "</table>\n",
       "</div>"
      ],
      "text/plain": [
       "col_0    1  2   3  4     5\n",
       "Rating                    \n",
       "1        4  2   1  0   703\n",
       "2       13  2   1  1   866\n",
       "3       11  3   1  2  1075\n",
       "4       26  4   8  9  3022\n",
       "5       39  5  13  9  4426"
      ]
     },
     "execution_count": 276,
     "metadata": {},
     "output_type": "execute_result"
    }
   ],
   "source": [
    "pd.crosstab(y_test, gbr.predict(X_testq))"
   ]
  },
  {
   "cell_type": "markdown",
   "id": "b37b8424",
   "metadata": {},
   "source": [
    "The accuracy is greater than original LR model, which is around 28 %. "
   ]
  },
  {
   "cell_type": "markdown",
   "id": "0b93c2b7",
   "metadata": {},
   "source": [
    "#### GB with Grid search"
   ]
  },
  {
   "cell_type": "markdown",
   "id": "8d218c40",
   "metadata": {},
   "source": [
    "We know that there are multiple parameters can affect the result in gradient boosting model, so let us try use grid search to find the paramters which work better."
   ]
  },
  {
   "cell_type": "code",
   "execution_count": 385,
   "id": "f28d5c96",
   "metadata": {},
   "outputs": [],
   "source": [
    "parameters = {'learning_rate':[0.1,0.01], 'n_estimators':[1000, 1300]}"
   ]
  },
  {
   "cell_type": "code",
   "execution_count": 386,
   "id": "40faa198",
   "metadata": {},
   "outputs": [],
   "source": [
    "clfbs_g = GradientBoostingClassifier(random_state=5)"
   ]
  },
  {
   "cell_type": "code",
   "execution_count": 387,
   "id": "7bac9e08",
   "metadata": {},
   "outputs": [
    {
     "data": {
      "text/plain": [
       "GridSearchCV(estimator=GradientBoostingClassifier(random_state=5),\n",
       "             param_grid={'learning_rate': [0.1, 0.01]})"
      ]
     },
     "execution_count": 387,
     "metadata": {},
     "output_type": "execute_result"
    }
   ],
   "source": [
    "clfbs_grid = GridSearchCV(clfbs_g, parameters)\n",
    "clfbs_grid.fit(X_trainr, y_train)"
   ]
  },
  {
   "cell_type": "code",
   "execution_count": 388,
   "id": "bf901ffb",
   "metadata": {},
   "outputs": [
    {
     "data": {
      "text/plain": [
       "0.568862859931674"
      ]
     },
     "execution_count": 388,
     "metadata": {},
     "output_type": "execute_result"
    }
   ],
   "source": [
    "clfbs_grid.best_score_"
   ]
  },
  {
   "cell_type": "markdown",
   "id": "8ac0790b",
   "metadata": {},
   "source": [
    "It's helpful."
   ]
  },
  {
   "cell_type": "code",
   "execution_count": 389,
   "id": "93ac56d4",
   "metadata": {},
   "outputs": [
    {
     "data": {
      "text/plain": [
       "{'learning_rate': 0.1}"
      ]
     },
     "execution_count": 389,
     "metadata": {},
     "output_type": "execute_result"
    }
   ],
   "source": [
    "clfbs_grid.best_params_"
   ]
  },
  {
   "cell_type": "markdown",
   "id": "e46b3bce",
   "metadata": {},
   "source": [
    "#### GB with tf-idf"
   ]
  },
  {
   "cell_type": "code",
   "execution_count": 390,
   "id": "75486ca3",
   "metadata": {},
   "outputs": [],
   "source": [
    "clfbs_pipe = Pipeline([('scaler', TfidfVectorizer(min_df=5)), ('gradientboostingClassification', GradientBoostingClassifier())])"
   ]
  },
  {
   "cell_type": "code",
   "execution_count": 394,
   "id": "128f9444",
   "metadata": {},
   "outputs": [],
   "source": [
    "new_clfbs_param_grid = {'gradientboostingClassification__learning_rate':[0.1], 'gradientboostingClassification__n_estimators':[1300]}"
   ]
  },
  {
   "cell_type": "code",
   "execution_count": 395,
   "id": "3600b8bb",
   "metadata": {},
   "outputs": [],
   "source": [
    "new_clfbs_grid = GridSearchCV(clfbs_pipe, param_grid=new_clfbs_param_grid, cv=5)"
   ]
  },
  {
   "cell_type": "code",
   "execution_count": 396,
   "id": "0fb32036",
   "metadata": {},
   "outputs": [
    {
     "data": {
      "text/plain": [
       "GridSearchCV(cv=5,\n",
       "             estimator=Pipeline(steps=[('scaler', TfidfVectorizer(min_df=5)),\n",
       "                                       ('gradientboostingClassification',\n",
       "                                        GradientBoostingClassifier())]),\n",
       "             param_grid={'gradientboostingClassification__learning_rate': [0.1],\n",
       "                         'gradientboostingClassification__n_estimators': [1300]})"
      ]
     },
     "execution_count": 396,
     "metadata": {},
     "output_type": "execute_result"
    }
   ],
   "source": [
    "new_clfbs_grid.fit(X_train, y_train)"
   ]
  },
  {
   "cell_type": "code",
   "execution_count": 397,
   "id": "e16712b3",
   "metadata": {},
   "outputs": [
    {
     "data": {
      "text/plain": [
       "0.5715959004392387"
      ]
     },
     "execution_count": 397,
     "metadata": {},
     "output_type": "execute_result"
    }
   ],
   "source": [
    "new_clfbs_grid.best_score_"
   ]
  },
  {
   "cell_type": "markdown",
   "id": "607e269a",
   "metadata": {},
   "source": [
    "With the grid search method, the accuracy is improved."
   ]
  },
  {
   "cell_type": "markdown",
   "id": "a784b31c",
   "metadata": {},
   "source": [
    "#### GB with N-Grams"
   ]
  },
  {
   "cell_type": "code",
   "execution_count": 403,
   "id": "e6701535",
   "metadata": {},
   "outputs": [],
   "source": [
    "clfgb_param_grid = {'gradientboostingClassification__n_estimators':[1300],'scaler__ngram_range':[(1,2)]}"
   ]
  },
  {
   "cell_type": "code",
   "execution_count": 404,
   "id": "95248148",
   "metadata": {},
   "outputs": [],
   "source": [
    "clfgb_ggrid = GridSearchCV(clfbs_pipe, param_grid = clfgb_param_grid, cv=5)"
   ]
  },
  {
   "cell_type": "code",
   "execution_count": 405,
   "id": "e817155d",
   "metadata": {},
   "outputs": [
    {
     "data": {
      "text/plain": [
       "GridSearchCV(cv=5,\n",
       "             estimator=Pipeline(steps=[('scaler', TfidfVectorizer(min_df=5)),\n",
       "                                       ('gradientboostingClassification',\n",
       "                                        GradientBoostingClassifier())]),\n",
       "             param_grid={'gradientboostingClassification__n_estimators': [1300],\n",
       "                         'scaler__ngram_range': [(1, 2)]})"
      ]
     },
     "execution_count": 405,
     "metadata": {},
     "output_type": "execute_result"
    }
   ],
   "source": [
    "clfgb_ggrid.fit(X_train, y_train)"
   ]
  },
  {
   "cell_type": "code",
   "execution_count": 406,
   "id": "5db24eb4",
   "metadata": {},
   "outputs": [
    {
     "data": {
      "text/plain": [
       "0.5768667642752562"
      ]
     },
     "execution_count": 406,
     "metadata": {},
     "output_type": "execute_result"
    }
   ],
   "source": [
    "clfgb_ggrid.best_score_"
   ]
  },
  {
   "cell_type": "markdown",
   "id": "baa60a09",
   "metadata": {},
   "source": [
    "It's improved."
   ]
  },
  {
   "cell_type": "markdown",
   "id": "72afc23d",
   "metadata": {},
   "source": [
    "### Random Forest Classification"
   ]
  },
  {
   "cell_type": "markdown",
   "id": "d6adc4f1",
   "metadata": {},
   "source": [
    "We know that random forest model is bulit on bootstrap sample of data, so that can let weak signals to speak. Then it might be a good choice to have the greater accuracy.\n",
    "So, let us try another one which is random forest classification."
   ]
  },
  {
   "cell_type": "code",
   "execution_count": 305,
   "id": "ce0d7fa6",
   "metadata": {},
   "outputs": [],
   "source": [
    "clfrf = RandomForestClassifier().fit(X_trainp, y_train)"
   ]
  },
  {
   "cell_type": "code",
   "execution_count": 306,
   "id": "286eb31e",
   "metadata": {},
   "outputs": [
    {
     "data": {
      "text/plain": [
       "0.4386101893421823"
      ]
     },
     "execution_count": 306,
     "metadata": {},
     "output_type": "execute_result"
    }
   ],
   "source": [
    "accuracy_score(y_test, clfrf.predict(X_testq))"
   ]
  },
  {
   "cell_type": "markdown",
   "id": "a74cdcd9",
   "metadata": {},
   "source": [
    "It looks better than boost model.  \n",
    "Yet, we still can try method to see if we can make it has better outcome."
   ]
  },
  {
   "cell_type": "markdown",
   "id": "06b0c82a",
   "metadata": {},
   "source": [
    "#### RF with Grid search"
   ]
  },
  {
   "cell_type": "code",
   "execution_count": 336,
   "id": "35769850",
   "metadata": {},
   "outputs": [],
   "source": [
    "parameters = {'n_estimators':[700, 1000, 1300]}"
   ]
  },
  {
   "cell_type": "code",
   "execution_count": 337,
   "id": "be1d9ca9",
   "metadata": {},
   "outputs": [],
   "source": [
    "clfrf_g = RandomForestClassifier(max_features='sqrt', random_state=5)"
   ]
  },
  {
   "cell_type": "code",
   "execution_count": 340,
   "id": "afc2a0e7",
   "metadata": {},
   "outputs": [
    {
     "data": {
      "text/plain": [
       "GridSearchCV(estimator=RandomForestClassifier(max_features='sqrt',\n",
       "                                              random_state=5),\n",
       "             param_grid={'n_estimators': [700, 1000, 1300]})"
      ]
     },
     "execution_count": 340,
     "metadata": {},
     "output_type": "execute_result"
    }
   ],
   "source": [
    "clfrf_grid = GridSearchCV(clfrf_g, parameters)\n",
    "clfrf_grid.fit(X_trainr, y_train)"
   ]
  },
  {
   "cell_type": "code",
   "execution_count": 345,
   "id": "7bb849c4",
   "metadata": {},
   "outputs": [
    {
     "data": {
      "text/plain": [
       "0.5364568081991214"
      ]
     },
     "execution_count": 345,
     "metadata": {},
     "output_type": "execute_result"
    }
   ],
   "source": [
    "clfrf_grid.best_score_"
   ]
  },
  {
   "cell_type": "code",
   "execution_count": 346,
   "id": "860922ea",
   "metadata": {},
   "outputs": [
    {
     "data": {
      "text/plain": [
       "{'n_estimators': 1300}"
      ]
     },
     "execution_count": 346,
     "metadata": {},
     "output_type": "execute_result"
    }
   ],
   "source": [
    "clfrf_grid.best_params_"
   ]
  },
  {
   "cell_type": "markdown",
   "id": "7a32a9ef",
   "metadata": {},
   "source": [
    "It's improved. Then, let try some more."
   ]
  },
  {
   "cell_type": "markdown",
   "id": "19b5a9be",
   "metadata": {},
   "source": [
    "#### RF with tf-idf"
   ]
  },
  {
   "cell_type": "code",
   "execution_count": 353,
   "id": "10cc9cdf",
   "metadata": {},
   "outputs": [],
   "source": [
    "clfrf_pipe = Pipeline([('scaler', TfidfVectorizer(min_df=5)), ('randomforestClassification', RandomForestClassifier())])"
   ]
  },
  {
   "cell_type": "code",
   "execution_count": 354,
   "id": "ae9c2574",
   "metadata": {},
   "outputs": [],
   "source": [
    "new_clfrf_param_grid = {'randomforestClassification__n_estimators':[1300]}"
   ]
  },
  {
   "cell_type": "code",
   "execution_count": 355,
   "id": "98418e21",
   "metadata": {},
   "outputs": [],
   "source": [
    "new_clfrf_grid = GridSearchCV(clfrf_pipe, param_grid=new_clfrf_param_grid, cv=5)"
   ]
  },
  {
   "cell_type": "code",
   "execution_count": 356,
   "id": "489edb3c",
   "metadata": {},
   "outputs": [
    {
     "data": {
      "text/plain": [
       "GridSearchCV(cv=5,\n",
       "             estimator=Pipeline(steps=[('scaler', TfidfVectorizer(min_df=5)),\n",
       "                                       ('randomforestClassification',\n",
       "                                        RandomForestClassifier())]),\n",
       "             param_grid={'randomforestClassification__n_estimators': [1300]})"
      ]
     },
     "execution_count": 356,
     "metadata": {},
     "output_type": "execute_result"
    }
   ],
   "source": [
    "new_clfrf_grid.fit(X_train, y_train)"
   ]
  },
  {
   "cell_type": "code",
   "execution_count": 357,
   "id": "106f4533",
   "metadata": {},
   "outputs": [
    {
     "data": {
      "text/plain": [
       "0.5351878965348951"
      ]
     },
     "execution_count": 357,
     "metadata": {},
     "output_type": "execute_result"
    }
   ],
   "source": [
    "new_clfrf_grid.best_score_"
   ]
  },
  {
   "cell_type": "markdown",
   "id": "c4b0b24d",
   "metadata": {},
   "source": [
    "#### RF with N-Grams"
   ]
  },
  {
   "cell_type": "code",
   "execution_count": 358,
   "id": "ee57a514",
   "metadata": {},
   "outputs": [],
   "source": [
    "clfrf_param_grid = {'randomforestClassification__n_estimators':[1300],'scaler__ngram_range':[(1,2)]}"
   ]
  },
  {
   "cell_type": "code",
   "execution_count": 359,
   "id": "a60cae01",
   "metadata": {},
   "outputs": [],
   "source": [
    "clfrf_ggrid = GridSearchCV(clfrf_pipe, param_grid = clfrf_param_grid, cv=5)"
   ]
  },
  {
   "cell_type": "code",
   "execution_count": 360,
   "id": "1dbc4ebc",
   "metadata": {},
   "outputs": [
    {
     "data": {
      "text/plain": [
       "GridSearchCV(cv=5,\n",
       "             estimator=Pipeline(steps=[('scaler', TfidfVectorizer(min_df=5)),\n",
       "                                       ('randomforestClassification',\n",
       "                                        RandomForestClassifier())]),\n",
       "             param_grid={'randomforestClassification__n_estimators': [1300],\n",
       "                         'scaler__ngram_range': [(1, 2)]})"
      ]
     },
     "execution_count": 360,
     "metadata": {},
     "output_type": "execute_result"
    }
   ],
   "source": [
    "clfrf_ggrid.fit(X_train, y_train)"
   ]
  },
  {
   "cell_type": "code",
   "execution_count": 361,
   "id": "d0e42c71",
   "metadata": {},
   "outputs": [
    {
     "data": {
      "text/plain": [
       "0.5300146412884335"
      ]
     },
     "execution_count": 361,
     "metadata": {},
     "output_type": "execute_result"
    }
   ],
   "source": [
    "clfrf_ggrid.best_score_"
   ]
  },
  {
   "cell_type": "markdown",
   "id": "3c87d5f6",
   "metadata": {},
   "source": [
    "We can observe from the outcome, other methods like tf-idf and n-grams seem do not help much in random forest model."
   ]
  },
  {
   "cell_type": "markdown",
   "id": "ea4e6cea",
   "metadata": {},
   "source": []
  },
  {
   "cell_type": "markdown",
   "id": "02ca3628",
   "metadata": {},
   "source": [
    "Last, maybe just for fun, we can take a look of the related words by using the word2vec model."
   ]
  },
  {
   "cell_type": "code",
   "execution_count": 374,
   "id": "5fa0c8e1",
   "metadata": {},
   "outputs": [],
   "source": [
    "texts=[ re.sub(\"[^\\w]\", \" \", str(review)).split() for review in X_train] "
   ]
  },
  {
   "cell_type": "code",
   "execution_count": 375,
   "id": "93be12bf",
   "metadata": {},
   "outputs": [],
   "source": [
    "model = Word2Vec(texts, size=50, window=10, min_count=5, sample=1e-3, workers=2)"
   ]
  },
  {
   "cell_type": "code",
   "execution_count": 376,
   "id": "d4f5eba5",
   "metadata": {},
   "outputs": [
    {
     "data": {
      "text/plain": [
       "[('fantastic', 0.7991313338279724),\n",
       " ('perfect', 0.7814468741416931),\n",
       " ('excellent', 0.7637667059898376),\n",
       " ('wonderful', 0.7461878061294556),\n",
       " ('terrific', 0.742800235748291),\n",
       " ('good', 0.7207186818122864),\n",
       " ('nice', 0.712812066078186),\n",
       " ('fabulous', 0.6914224028587341),\n",
       " ('brilliant', 0.6730890870094299),\n",
       " ('loved', 0.6628646850585938)]"
      ]
     },
     "execution_count": 376,
     "metadata": {},
     "output_type": "execute_result"
    }
   ],
   "source": [
    "model.wv.most_similar(positive='great')"
   ]
  },
  {
   "cell_type": "code",
   "execution_count": 377,
   "id": "1b7fc6ce",
   "metadata": {},
   "outputs": [
    {
     "data": {
      "text/plain": [
       "[('overpriced', 0.892159104347229),\n",
       " ('pricey', 0.8917731046676636),\n",
       " ('reasonable', 0.8434616327285767),\n",
       " ('option', 0.8393158912658691),\n",
       " ('cheaper', 0.8113552331924438),\n",
       " ('range', 0.8001254200935364),\n",
       " ('cheap', 0.7969598770141602),\n",
       " ('fraction', 0.7831597328186035),\n",
       " ('prices', 0.7798192501068115),\n",
       " ('price', 0.7646291255950928)]"
      ]
     },
     "execution_count": 377,
     "metadata": {},
     "output_type": "execute_result"
    }
   ],
   "source": [
    "model.wv.most_similar(positive='expensive')"
   ]
  },
  {
   "cell_type": "markdown",
   "id": "950fce07",
   "metadata": {},
   "source": [
    "# Conclusion"
   ]
  },
  {
   "cell_type": "markdown",
   "id": "0e0c6bac",
   "metadata": {},
   "source": [
    "We can observe from the outcomes, the LR model works best with the 61% accuracy. \n",
    "To be honest, this result is not expected.   \n",
    "\n",
    "\n",
    "So when we looked back what happened during the procedure, if we only trained the data and predicted with test set (not use grid search method etc.), we could find that boosting model has the highest accuracy about 44% compared to other two models. However, when we used the grid search method, the LR models has the great improvement. We thought the reason may caused by the parameter we set. In other words, we might did better if we tried other parameter value. The reason why we did not try to tune parameter with grid search more is that each of trial could take at least two hours. It's actually time-consuming.   \n",
    "  \n",
    "  \n",
    "\n",
    "Another issue we may took some time to discuss is the metric we used to test for the outcome. We knew from above process, we used accuracy score in this project. Yet, if we look deeper, we could find that most of prediction are inclined to predict the class 5. It might cause by the imblance data in original data set. So here has a room we could do better in the future. Maybe we could use SMOKE to solve the problem for imblance data and using F1 score instead of accuracy score to measure the outcome.\n",
    "\n",
    "\n",
    "In general, there are two major directions we can try more and deal with in the future, one is the parameter of grid search, the other one is imblance data in training set. We might get different result if we address those issue and get better performance.\n",
    "\n"
   ]
  },
  {
   "cell_type": "code",
   "execution_count": null,
   "id": "5201d178",
   "metadata": {},
   "outputs": [],
   "source": []
  }
 ],
 "metadata": {
  "kernelspec": {
   "display_name": "Python 3",
   "language": "python",
   "name": "python3"
  },
  "language_info": {
   "codemirror_mode": {
    "name": "ipython",
    "version": 3
   },
   "file_extension": ".py",
   "mimetype": "text/x-python",
   "name": "python",
   "nbconvert_exporter": "python",
   "pygments_lexer": "ipython3",
   "version": "3.7.1"
  }
 },
 "nbformat": 4,
 "nbformat_minor": 5
}
